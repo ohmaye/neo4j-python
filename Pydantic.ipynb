{
 "cells": [
  {
   "cell_type": "code",
   "execution_count": 1,
   "metadata": {},
   "outputs": [
    {
     "name": "stdout",
     "output_type": "stream",
     "text": [
      "datetime.datetime(2020, 1, 2, 3, 4, 5, tzinfo=TzInfo(UTC))\n",
      "(10, 20)\n"
     ]
    }
   ],
   "source": [
    "from pydantic import BaseModel, PositiveInt\n",
    "\n",
    "from datetime import datetime\n",
    "from typing import Tuple\n",
    "\n",
    "class Delivery(BaseModel):\n",
    "    timeStamp: datetime\n",
    "    dimensions: Tuple[int, int]\n",
    "\n",
    "m = Delivery(timeStamp='2020-01-02T03:04:05Z', dimensions=['10','20'])\n",
    "print(repr(m.timeStamp))\n",
    "print(m.dimensions)"
   ]
  },
  {
   "cell_type": "code",
   "execution_count": 2,
   "metadata": {},
   "outputs": [],
   "source": [
    "class User(BaseModel):\n",
    "    id: int\n",
    "    name: str = 'John Doe'\n",
    "    signup_ts: datetime | None\n",
    "    tastes: dict[str, PositiveInt]\n",
    "\n",
    "external_data = {\n",
    "    'id': 123,\n",
    "    'signup_ts': '2018-04-01 12:22',\n",
    "    'tastes': {\n",
    "        'wine': 9,\n",
    "        b'cheese': 7,\n",
    "        'cabbage': '1'\n",
    "    }\n",
    "}"
   ]
  },
  {
   "cell_type": "code",
   "execution_count": 3,
   "metadata": {},
   "outputs": [],
   "source": [
    "user = User(**external_data)"
   ]
  },
  {
   "cell_type": "code",
   "execution_count": 4,
   "metadata": {},
   "outputs": [
    {
     "name": "stdout",
     "output_type": "stream",
     "text": [
      "123\n"
     ]
    }
   ],
   "source": [
    "print(user.id)"
   ]
  },
  {
   "cell_type": "code",
   "execution_count": 6,
   "metadata": {},
   "outputs": [
    {
     "data": {
      "text/plain": [
       "{'properties': {'id': {'title': 'Id', 'type': 'integer'},\n",
       "  'name': {'default': 'John Doe', 'title': 'Name', 'type': 'string'},\n",
       "  'signup_ts': {'anyOf': [{'format': 'date-time', 'type': 'string'},\n",
       "    {'type': 'null'}],\n",
       "   'title': 'Signup Ts'},\n",
       "  'tastes': {'additionalProperties': {'exclusiveMinimum': 0,\n",
       "    'type': 'integer'},\n",
       "   'title': 'Tastes',\n",
       "   'type': 'object'}},\n",
       " 'required': ['id', 'signup_ts', 'tastes'],\n",
       " 'title': 'User',\n",
       " 'type': 'object'}"
      ]
     },
     "execution_count": 6,
     "metadata": {},
     "output_type": "execute_result"
    }
   ],
   "source": [
    "User.model_json_schema()"
   ]
  },
  {
   "cell_type": "code",
   "execution_count": null,
   "metadata": {},
   "outputs": [],
   "source": []
  }
 ],
 "metadata": {
  "kernelspec": {
   "display_name": "neo4j-python-LtdXbCXM-py3.10",
   "language": "python",
   "name": "python3"
  },
  "language_info": {
   "codemirror_mode": {
    "name": "ipython",
    "version": 3
   },
   "file_extension": ".py",
   "mimetype": "text/x-python",
   "name": "python",
   "nbconvert_exporter": "python",
   "pygments_lexer": "ipython3",
   "version": "3.10.13"
  }
 },
 "nbformat": 4,
 "nbformat_minor": 2
}
