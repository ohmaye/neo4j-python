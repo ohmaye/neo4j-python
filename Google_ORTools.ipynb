{
 "cells": [
  {
   "cell_type": "markdown",
   "metadata": {},
   "source": [
    "# Google OR-Tools\n"
   ]
  },
  {
   "cell_type": "code",
   "execution_count": 2,
   "metadata": {},
   "outputs": [
    {
     "name": "stdout",
     "output_type": "stream",
     "text": [
      "x = 1\n",
      "y = 0\n",
      "z = 0\n"
     ]
    }
   ],
   "source": [
    "\"\"\"Simple solve.\"\"\"\n",
    "from ortools.sat.python import cp_model\n",
    "\n",
    "\n",
    "def SimpleSatProgram():\n",
    "    \"\"\"Minimal CP-SAT example to showcase calling the solver.\"\"\"\n",
    "    # Creates the model.\n",
    "    model = cp_model.CpModel()\n",
    "\n",
    "    # Creates the variables.\n",
    "    num_vals = 3\n",
    "    x = model.NewIntVar(0, num_vals - 1, \"x\")\n",
    "    y = model.NewIntVar(0, num_vals - 1, \"y\")\n",
    "    z = model.NewIntVar(0, num_vals - 1, \"z\")\n",
    "\n",
    "    # Creates the constraints.\n",
    "    model.Add(x != y)\n",
    "\n",
    "    # Creates a solver and solves the model.\n",
    "    solver = cp_model.CpSolver()\n",
    "    status = solver.Solve(model)\n",
    "\n",
    "    if status == cp_model.OPTIMAL or status == cp_model.FEASIBLE:\n",
    "        print(f\"x = {solver.Value(x)}\")\n",
    "        print(f\"y = {solver.Value(y)}\")\n",
    "        print(f\"z = {solver.Value(z)}\")\n",
    "    else:\n",
    "        print(\"No solution found.\")\n",
    "\n",
    "\n",
    "SimpleSatProgram()"
   ]
  },
  {
   "cell_type": "code",
   "execution_count": 33,
   "metadata": {},
   "outputs": [
    {
     "name": "stdout",
     "output_type": "stream",
     "text": [
      "x=1 y=0 z=0 \n",
      "x=2 y=0 z=0 \n",
      "x=2 y=0 z=1 \n",
      "x=1 y=0 z=1 \n",
      "x=2 y=1 z=1 \n",
      "x=2 y=1 z=0 \n",
      "x=2 y=1 z=2 \n",
      "x=2 y=0 z=2 \n",
      "x=1 y=0 z=2 \n",
      "x=0 y=1 z=2 \n",
      "x=0 y=1 z=1 \n",
      "x=0 y=2 z=1 \n",
      "x=0 y=2 z=2 \n",
      "x=1 y=2 z=2 \n",
      "x=1 y=2 z=1 \n",
      "x=1 y=2 z=0 \n",
      "x=0 y=2 z=0 \n",
      "x=0 y=1 z=0 \n",
      "Status = OPTIMAL\n",
      "Number of solutions found: 18\n"
     ]
    }
   ],
   "source": [
    "from ortools.sat.python import cp_model\n",
    "\n",
    "\n",
    "class VarArraySolutionPrinter(cp_model.CpSolverSolutionCallback):\n",
    "    \"\"\"Print intermediate solutions.\"\"\"\n",
    "\n",
    "    def __init__(self, variables):\n",
    "        cp_model.CpSolverSolutionCallback.__init__(self)\n",
    "        self.__variables = variables\n",
    "        self.__solution_count = 0\n",
    "\n",
    "    def on_solution_callback(self):\n",
    "        self.__solution_count += 1\n",
    "        for v in self.__variables:\n",
    "            print(f\"{v}={self.Value(v)}\", end=\" \")\n",
    "        print()\n",
    "\n",
    "    def solution_count(self):\n",
    "        return self.__solution_count\n",
    "\n",
    "\n",
    "def SearchForAllSolutionsSampleSat():\n",
    "    \"\"\"Showcases calling the solver to search for all solutions.\"\"\"\n",
    "    # Creates the model.\n",
    "    model = cp_model.CpModel()\n",
    "\n",
    "    # Creates the variables.\n",
    "    num_vals = 3\n",
    "    x = model.NewIntVar(0, num_vals - 1, \"x\")\n",
    "    y = model.NewIntVar(0, num_vals - 1, \"y\")\n",
    "    z = model.NewIntVar(0, num_vals - 1, \"z\")\n",
    "\n",
    "    # Create the constraints.\n",
    "    model.Add(x != y)\n",
    "\n",
    "    # Create a solver and solve.\n",
    "    solver = cp_model.CpSolver()\n",
    "    solution_printer = VarArraySolutionPrinter([x, y, z])\n",
    "    # Enumerate all solutions.\n",
    "    solver.parameters.enumerate_all_solutions = True\n",
    "    # Solve.\n",
    "    status = solver.Solve(model, solution_printer)\n",
    "\n",
    "    print(f\"Status = {solver.StatusName(status)}\")\n",
    "    print(f\"Number of solutions found: {solution_printer.solution_count()}\")\n",
    "\n",
    "\n",
    "SearchForAllSolutionsSampleSat()"
   ]
  },
  {
   "cell_type": "code",
   "execution_count": 34,
   "metadata": {},
   "outputs": [
    {
     "name": "stdout",
     "output_type": "stream",
     "text": [
      "Maximum of objective function: 35.0\n",
      "\n",
      "x = 7\n",
      "y = 3\n",
      "z = 5\n",
      "\n",
      "Statistics\n",
      "  status   : OPTIMAL\n",
      "  conflicts: 0\n",
      "  branches : 0\n",
      "  wall time: 0.004396000000000001 s\n"
     ]
    }
   ],
   "source": [
    "\"\"\"Simple solve.\"\"\"\n",
    "from ortools.sat.python import cp_model\n",
    "\n",
    "\n",
    "def main():\n",
    "    \"\"\"Minimal CP-SAT example to showcase calling the solver.\"\"\"\n",
    "    # Creates the model.\n",
    "    model = cp_model.CpModel()\n",
    "\n",
    "    # Creates the variables.\n",
    "    var_upper_bound = max(50, 45, 37)\n",
    "    x = model.NewIntVar(0, var_upper_bound, \"x\")\n",
    "    y = model.NewIntVar(0, var_upper_bound, \"y\")\n",
    "    z = model.NewIntVar(0, var_upper_bound, \"z\")\n",
    "\n",
    "    # Creates the constraints.\n",
    "    model.Add(2 * x + 7 * y + 3 * z <= 50)\n",
    "    model.Add(3 * x - 5 * y + 7 * z <= 45)\n",
    "    model.Add(5 * x + 2 * y - 6 * z <= 37)\n",
    "\n",
    "    model.Maximize(2 * x + 2 * y + 3 * z)\n",
    "\n",
    "    # Creates a solver and solves the model.\n",
    "    solver = cp_model.CpSolver()\n",
    "    status = solver.Solve(model)\n",
    "\n",
    "    if status == cp_model.OPTIMAL or status == cp_model.FEASIBLE:\n",
    "        print(f\"Maximum of objective function: {solver.ObjectiveValue()}\\n\")\n",
    "        print(f\"x = {solver.Value(x)}\")\n",
    "        print(f\"y = {solver.Value(y)}\")\n",
    "        print(f\"z = {solver.Value(z)}\")\n",
    "    else:\n",
    "        print(\"No solution found.\")\n",
    "\n",
    "    # Statistics.\n",
    "    print(\"\\nStatistics\")\n",
    "    print(f\"  status   : {solver.StatusName(status)}\")\n",
    "    print(f\"  conflicts: {solver.NumConflicts()}\")\n",
    "    print(f\"  branches : {solver.NumBranches()}\")\n",
    "    print(f\"  wall time: {solver.WallTime()} s\")\n",
    "\n",
    "\n",
    "if __name__ == \"__main__\":\n",
    "    main()"
   ]
  },
  {
   "cell_type": "code",
   "execution_count": null,
   "metadata": {},
   "outputs": [],
   "source": [
    "# Load SPINs\n",
    "LOAD CSV WITH HEADERS FROM 'file:///SPINChoice.csv' AS row\n",
    "WITH row WHERE row.FirstName IS NOT NULL\n",
    "MERGE (s:Student {firstName:row.FirstName, lastName:row.LastName})\n",
    "\n",
    "LOAD CSV WITH HEADERS FROM 'file:///SPINChoice.csv' AS row\n",
    "WITH row WHERE row.IntensiveChoice03 IS NOT NULL\n",
    "MERGE (s:SPIN_I {SPIN:row.IntensiveChoice03})\n",
    "\n"
   ]
  }
 ],
 "metadata": {
  "kernelspec": {
   "display_name": "Python 3",
   "language": "python",
   "name": "python3"
  },
  "language_info": {
   "codemirror_mode": {
    "name": "ipython",
    "version": 3
   },
   "file_extension": ".py",
   "mimetype": "text/x-python",
   "name": "python",
   "nbconvert_exporter": "python",
   "pygments_lexer": "ipython3",
   "version": "3.10.13"
  }
 },
 "nbformat": 4,
 "nbformat_minor": 2
}
