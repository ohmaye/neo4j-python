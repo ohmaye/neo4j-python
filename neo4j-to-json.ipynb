{
 "cells": [
  {
   "cell_type": "code",
   "execution_count": 6,
   "metadata": {},
   "outputs": [],
   "source": [
    "from neo4j import GraphDatabase\n",
    "\n",
    "class Neo4j:\n",
    "\n",
    "    def __init__(self, uri, user, password):\n",
    "        self.driver = GraphDatabase.driver(uri, auth=(user, password))\n",
    "\n",
    "    def close(self):\n",
    "        self.driver.close()\n",
    "\n",
    "neo4j = Neo4j(\"bolt://localhost:7687\", \"neo4j\", \"password\")"
   ]
  },
  {
   "cell_type": "code",
   "execution_count": 13,
   "metadata": {},
   "outputs": [],
   "source": [
    "def  query(query):\n",
    "    return  neo4j.driver.execute_query(query)"
   ]
  },
  {
   "cell_type": "code",
   "execution_count": 99,
   "metadata": {},
   "outputs": [],
   "source": [
    "result = query(\"MATCH (room:Room) RETURN room\")"
   ]
  },
  {
   "cell_type": "code",
   "execution_count": 100,
   "metadata": {},
   "outputs": [
    {
     "data": {
      "text/plain": [
       "[{'isAvailable': True, 'name': '24F A', 'type': 'Classroom', 'capacity': '18'},\n",
       " {'isAvailable': False,\n",
       "  'name': '24F A2Edit Room Name: Item 24F A2',\n",
       "  'type': 'Classroom',\n",
       "  'capacity': '17'},\n",
       " {'isAvailable': False,\n",
       "  'name': '24F A2(16)',\n",
       "  'type': 'Unknown',\n",
       "  'capacity': 'Unknown'},\n",
       " {'isAvailable': True,\n",
       "  'name': '24F B1',\n",
       "  'type': 'Classroom',\n",
       "  'capacity': '18'},\n",
       " {'isAvailable': True, 'name': '24F B2', 'type': 'Unknown', 'capacity': '18'},\n",
       " {'name': '24F C1', 'type': 'Classroom', 'capacity': '18'},\n",
       " {'name': '24F C2', 'type': 'Classroom', 'capacity': '18'},\n",
       " {'name': '27F Fukuoka', 'type': 'Classroom', 'capacity': '17'},\n",
       " {'name': 'Fureai Shibuya Room #91',\n",
       "  'type': 'Classroom',\n",
       "  'capacity': 'Unknown'},\n",
       " {'name': '27F Kyoto', 'type': 'Classroom', 'capacity': '17'},\n",
       " {'name': '27F Lounge', 'type': 'Classroom', 'capacity': '200'},\n",
       " {'name': 'Lounge/AL1', 'type': 'Non-room', 'capacity': 'Unknown'},\n",
       " {'name': 'Lounge/AL2', 'type': 'Non-room', 'capacity': '30'},\n",
       " {'name': '27F Okinawa', 'type': 'Classroom', 'capacity': '17'},\n",
       " {'name': '27F Osaka', 'type': 'Classroom', 'capacity': '17'},\n",
       " {'name': '27F Sapporo', 'type': 'Classroom', 'capacity': '17'},\n",
       " {'name': '27F Sapporo=Okinawa', 'type': 'Classroom', 'capacity': '50'},\n",
       " {'name': 'Seminar Room', 'type': 'Classroom', 'capacity': '90'},\n",
       " {'name': 'Seminar Room1', 'type': 'Classroom', 'capacity': '17'},\n",
       " {'name': 'TKP Hall 4C (1)', 'type': 'Classroom', 'capacity': 'Unknown'},\n",
       " {'name': 'TKP Hall 4C (2)', 'type': 'Classroom', 'capacity': 'Unknown'},\n",
       " {'name': 'TKP Hall 4C (3)', 'type': 'Classroom', 'capacity': 'Unknown'},\n",
       " {'name': 'TKP Hall B (1)', 'type': 'Unknown', 'capacity': '100'},\n",
       " {'name': 'TKP Hall B (2)', 'type': 'Unknown', 'capacity': '100'},\n",
       " {'name': 'TKP Hall B (3)', 'type': 'Unknown', 'capacity': '100'},\n",
       " {'name': 'TKP Room4E (1)', 'type': 'Non-room', 'capacity': '40'},\n",
       " {'name': 'TKP Room4E (2)', 'type': 'Unknown', 'capacity': 'Unknown'},\n",
       " {'name': 'TKP Room4E(3)', 'type': 'Unknown', 'capacity': 'Unknown'},\n",
       " {'name': 'TKP RoomC (1)', 'type': 'Unknown', 'capacity': 'Unknown'},\n",
       " {'name': 'TKP RoomC (2)', 'type': 'Unknown', 'capacity': 'Unknown'},\n",
       " {'name': 'TKP RoomD', 'type': 'Classroom', 'capacity': '20'},\n",
       " {'name': 'TKP RoomE (1)', 'type': 'Non-room', 'capacity': 'Unknown'},\n",
       " {'name': 'TKP RoomE (2)', 'type': 'Non-room', 'capacity': 'Unknown'},\n",
       " {'name': 'TKP RoomF', 'type': 'Classroom', 'capacity': '12'},\n",
       " {'name': '27F Tokyo', 'type': 'Classroom', 'capacity': '50'}]"
      ]
     },
     "execution_count": 100,
     "metadata": {},
     "output_type": "execute_result"
    }
   ],
   "source": [
    "rooms = [record.data()['room'] for record in result.records]\n",
    "rooms"
   ]
  },
  {
   "cell_type": "code",
   "execution_count": 1,
   "metadata": {},
   "outputs": [
    {
     "ename": "NameError",
     "evalue": "name 'BaseModel' is not defined",
     "output_type": "error",
     "traceback": [
      "\u001b[0;31m---------------------------------------------------------------------------\u001b[0m",
      "\u001b[0;31mNameError\u001b[0m                                 Traceback (most recent call last)",
      "Cell \u001b[0;32mIn[1], line 1\u001b[0m\n\u001b[0;32m----> 1\u001b[0m \u001b[38;5;28;01mclass\u001b[39;00m \u001b[38;5;21;01mRoom\u001b[39;00m(\u001b[43mBaseModel\u001b[49m):\n\u001b[1;32m      2\u001b[0m     name: \u001b[38;5;28mstr\u001b[39m\n\u001b[1;32m      3\u001b[0m     \u001b[38;5;28mtype\u001b[39m: \u001b[38;5;28mstr\u001b[39m \u001b[38;5;241m=\u001b[39m \u001b[38;5;124m\"\u001b[39m\u001b[38;5;124m\"\u001b[39m\n",
      "\u001b[0;31mNameError\u001b[0m: name 'BaseModel' is not defined"
     ]
    }
   ],
   "source": [
    "import pydantic\n",
    "\n",
    "class Room(BaseModel):\n",
    "    name: str\n",
    "    type: str = \"\"\n",
    "    capacity: int = 18\n",
    "    isAvailable: bool = False"
   ]
  },
  {
   "cell_type": "code",
   "execution_count": null,
   "metadata": {},
   "outputs": [],
   "source": []
  }
 ],
 "metadata": {
  "kernelspec": {
   "display_name": "neo4j-python-LtdXbCXM-py3.10",
   "language": "python",
   "name": "python3"
  },
  "language_info": {
   "codemirror_mode": {
    "name": "ipython",
    "version": 3
   },
   "file_extension": ".py",
   "mimetype": "text/x-python",
   "name": "python",
   "nbconvert_exporter": "python",
   "pygments_lexer": "ipython3",
   "version": "3.10.13"
  }
 },
 "nbformat": 4,
 "nbformat_minor": 2
}
