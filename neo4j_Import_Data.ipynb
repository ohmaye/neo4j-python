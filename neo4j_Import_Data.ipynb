{
 "cells": [
  {
   "cell_type": "code",
   "execution_count": 28,
   "metadata": {},
   "outputs": [],
   "source": [
    "from neo4j import GraphDatabase\n",
    "\n",
    "class Neo4j:\n",
    "\n",
    "    def __init__(self, uri, user, password):\n",
    "        self.driver = GraphDatabase.driver(uri, auth=(user, password))\n",
    "\n",
    "    def close(self):\n",
    "        self.driver.close()\n",
    "\n",
    "neo4j = Neo4j(\"bolt://localhost:7687\", \"neo4j\", \"password\")"
   ]
  },
  {
   "cell_type": "code",
   "execution_count": 29,
   "metadata": {},
   "outputs": [],
   "source": [
    "# neo4j.driver.execute_query(\"MATCH (p) RETURN p LIMIT 2\")\n",
    "\n",
    "def execute(query):\n",
    "    with neo4j.driver.session() as session:\n",
    "        result = session.run(query)\n",
    "        return result"
   ]
  },
  {
   "cell_type": "markdown",
   "metadata": {},
   "source": [
    "# Import Data\n"
   ]
  },
  {
   "cell_type": "code",
   "execution_count": 37,
   "metadata": {},
   "outputs": [],
   "source": [
    "clean_up = \"MATCH (n) DETACH DELETE n\"\n",
    "show_all = \"MATCH (n) RETURN n\"\n",
    "\n",
    "# Import files: /Users/enioohmaye/Library/Application Support/Neo4j Desktop/Application/relate-data/dbmss/dbms-41d35f05-e4e0-4f5a-a04e-64b41bb80839/import\n",
    "\n",
    "# Load SPINs\n",
    "import_students = \"\"\"\n",
    "        LOAD CSV WITH HEADERS FROM 'file:///SPINChoice.csv' AS row\n",
    "        WITH row WHERE row.FirstName IS NOT NULL\n",
    "        MERGE (s:Student {firstName:row.FirstName, lastName:row.LastName})\n",
    "\"\"\"\n",
    "\n",
    "import_SPINs = \"\"\"\n",
    "        LOAD CSV WITH HEADERS FROM 'file:///SPINChoice.csv' AS row\n",
    "        WITH row WHERE row.{0} IS NOT NULL\n",
    "        MERGE (s:SPIN {{SPIN:row.{0}}})\n",
    "\"\"\"\n",
    "\n",
    "import_student_WANTS_spins = \"\"\"\n",
    "        LOAD CSV WITH HEADERS FROM 'file:///SPINChoice.csv' AS row\n",
    "        WITH row WHERE row.FirstName IS NOT NULL\n",
    "        MATCH (stud:Student) WHERE row.FirstName = stud.firstName and row.LastName = stud.lastName\n",
    "        MATCH (spin:SPIN) WHERE spin.SPIN = row.{0}\n",
    "        MERGE (stud)-[wants:WANTS {{ranking:{1}, choice:{0}}}]->(spin)\n",
    "\"\"\"\n",
    "\n",
    "\n",
    "import_student_level = \"\"\"\n",
    "        LOAD CSV WITH HEADERS FROM 'file:///2_Weekly_Student_Class.csv' AS row\n",
    "        WITH row WHERE row.`First Name` IS NOT NULL\n",
    "        MATCH (stud:Student) WHERE row.`First Name` = stud.firstName and row.`Last Name` = stud.lastName\n",
    "        SET stud.level = row.Level\n",
    "\"\"\"\n",
    "import_rooms = \"\"\"\n",
    "        LOAD CSV WITH HEADERS FROM 'file:///Rooms.csv' AS row\n",
    "        WITH row WHERE row.Room IS NOT NULL\n",
    "        MERGE (r:Room {name:row.Room, capacity:coalesce(row.Capacity, 'Unknown'), type:coalesce(row.Type,'Unknown')})\n",
    "\"\"\"\n",
    "import_blocks = \"\"\"\n",
    "        LOAD CSV WITH HEADERS FROM 'file:///Blocks.csv' AS row\n",
    "        WITH row WHERE row.Block IS NOT NULL\n",
    "        MERGE (r:Block {name:row.Block, startTime: row.startTime, endTime: row.endTime})\n",
    "\"\"\"\n",
    "\n",
    "import_teachers = \"\"\"\n",
    "        LOAD CSV WITH HEADERS FROM 'file:///Teachers.csv' AS row\n",
    "        WITH row WHERE row.Teacher IS NOT NULL\n",
    "        MERGE (r:Teacher {name:row.Teacher})\n",
    "\"\"\""
   ]
  },
  {
   "cell_type": "code",
   "execution_count": 38,
   "metadata": {},
   "outputs": [
    {
     "ename": "CypherSyntaxError",
     "evalue": "{code: Neo.ClientError.Statement.SyntaxError} {message: Variable `Choice01` not defined (line 6, column 44 (offset: 316))\n\"        MERGE (stud)-[wants:WANTS {choice: Choice01, ranking:10}]->(spin)\"\n                                            ^}",
     "output_type": "error",
     "traceback": [
      "\u001b[0;31m---------------------------------------------------------------------------\u001b[0m",
      "\u001b[0;31mCypherSyntaxError\u001b[0m                         Traceback (most recent call last)",
      "Cell \u001b[0;32mIn[38], line 12\u001b[0m\n\u001b[1;32m     10\u001b[0m execute(import_SPINs\u001b[38;5;241m.\u001b[39mformat(\u001b[38;5;124m\"\u001b[39m\u001b[38;5;124mIntensiveChoice02\u001b[39m\u001b[38;5;124m\"\u001b[39m))\n\u001b[1;32m     11\u001b[0m execute(import_SPINs\u001b[38;5;241m.\u001b[39mformat(\u001b[38;5;124m\"\u001b[39m\u001b[38;5;124mIntensiveChoice03\u001b[39m\u001b[38;5;124m\"\u001b[39m))\n\u001b[0;32m---> 12\u001b[0m \u001b[43mexecute\u001b[49m\u001b[43m(\u001b[49m\u001b[43mimport_student_WANTS_spins\u001b[49m\u001b[38;5;241;43m.\u001b[39;49m\u001b[43mformat\u001b[49m\u001b[43m(\u001b[49m\u001b[38;5;124;43m\"\u001b[39;49m\u001b[38;5;124;43mChoice01\u001b[39;49m\u001b[38;5;124;43m\"\u001b[39;49m\u001b[43m,\u001b[49m\u001b[43m \u001b[49m\u001b[38;5;241;43m10\u001b[39;49m\u001b[43m)\u001b[49m\u001b[43m)\u001b[49m\n\u001b[1;32m     13\u001b[0m execute(import_student_WANTS_spins\u001b[38;5;241m.\u001b[39mformat(\u001b[38;5;124m\"\u001b[39m\u001b[38;5;124mChoice02\u001b[39m\u001b[38;5;124m\"\u001b[39m, \u001b[38;5;241m8\u001b[39m))\n\u001b[1;32m     14\u001b[0m execute(import_student_WANTS_spins\u001b[38;5;241m.\u001b[39mformat(\u001b[38;5;124m\"\u001b[39m\u001b[38;5;124mChoice03\u001b[39m\u001b[38;5;124m\"\u001b[39m, \u001b[38;5;241m6\u001b[39m))\n",
      "Cell \u001b[0;32mIn[29], line 5\u001b[0m, in \u001b[0;36mexecute\u001b[0;34m(query)\u001b[0m\n\u001b[1;32m      3\u001b[0m \u001b[38;5;28;01mdef\u001b[39;00m \u001b[38;5;21mexecute\u001b[39m(query):\n\u001b[1;32m      4\u001b[0m     \u001b[38;5;28;01mwith\u001b[39;00m neo4j\u001b[38;5;241m.\u001b[39mdriver\u001b[38;5;241m.\u001b[39msession() \u001b[38;5;28;01mas\u001b[39;00m session:\n\u001b[0;32m----> 5\u001b[0m         result \u001b[38;5;241m=\u001b[39m \u001b[43msession\u001b[49m\u001b[38;5;241;43m.\u001b[39;49m\u001b[43mrun\u001b[49m\u001b[43m(\u001b[49m\u001b[43mquery\u001b[49m\u001b[43m)\u001b[49m\n\u001b[1;32m      6\u001b[0m         \u001b[38;5;28;01mreturn\u001b[39;00m result\n",
      "File \u001b[0;32m~/Library/Caches/pypoetry/virtualenvs/neo4j-python-LtdXbCXM-py3.10/lib/python3.10/site-packages/neo4j/_sync/work/session.py:313\u001b[0m, in \u001b[0;36mSession.run\u001b[0;34m(self, query, parameters, **kwargs)\u001b[0m\n\u001b[1;32m    311\u001b[0m bookmarks \u001b[38;5;241m=\u001b[39m \u001b[38;5;28mself\u001b[39m\u001b[38;5;241m.\u001b[39m_get_bookmarks()\n\u001b[1;32m    312\u001b[0m parameters \u001b[38;5;241m=\u001b[39m \u001b[38;5;28mdict\u001b[39m(parameters \u001b[38;5;129;01mor\u001b[39;00m {}, \u001b[38;5;241m*\u001b[39m\u001b[38;5;241m*\u001b[39mkwargs)\n\u001b[0;32m--> 313\u001b[0m \u001b[38;5;28;43mself\u001b[39;49m\u001b[38;5;241;43m.\u001b[39;49m\u001b[43m_auto_result\u001b[49m\u001b[38;5;241;43m.\u001b[39;49m\u001b[43m_run\u001b[49m\u001b[43m(\u001b[49m\n\u001b[1;32m    314\u001b[0m \u001b[43m    \u001b[49m\u001b[43mquery\u001b[49m\u001b[43m,\u001b[49m\u001b[43m \u001b[49m\u001b[43mparameters\u001b[49m\u001b[43m,\u001b[49m\u001b[43m \u001b[49m\u001b[38;5;28;43mself\u001b[39;49m\u001b[38;5;241;43m.\u001b[39;49m\u001b[43m_config\u001b[49m\u001b[38;5;241;43m.\u001b[39;49m\u001b[43mdatabase\u001b[49m\u001b[43m,\u001b[49m\n\u001b[1;32m    315\u001b[0m \u001b[43m    \u001b[49m\u001b[38;5;28;43mself\u001b[39;49m\u001b[38;5;241;43m.\u001b[39;49m\u001b[43m_config\u001b[49m\u001b[38;5;241;43m.\u001b[39;49m\u001b[43mimpersonated_user\u001b[49m\u001b[43m,\u001b[49m\u001b[43m \u001b[49m\u001b[38;5;28;43mself\u001b[39;49m\u001b[38;5;241;43m.\u001b[39;49m\u001b[43m_config\u001b[49m\u001b[38;5;241;43m.\u001b[39;49m\u001b[43mdefault_access_mode\u001b[49m\u001b[43m,\u001b[49m\n\u001b[1;32m    316\u001b[0m \u001b[43m    \u001b[49m\u001b[43mbookmarks\u001b[49m\u001b[43m,\u001b[49m\u001b[43m \u001b[49m\u001b[38;5;28;43mself\u001b[39;49m\u001b[38;5;241;43m.\u001b[39;49m\u001b[43m_config\u001b[49m\u001b[38;5;241;43m.\u001b[39;49m\u001b[43mnotifications_min_severity\u001b[49m\u001b[43m,\u001b[49m\n\u001b[1;32m    317\u001b[0m \u001b[43m    \u001b[49m\u001b[38;5;28;43mself\u001b[39;49m\u001b[38;5;241;43m.\u001b[39;49m\u001b[43m_config\u001b[49m\u001b[38;5;241;43m.\u001b[39;49m\u001b[43mnotifications_disabled_categories\u001b[49m\u001b[43m,\u001b[49m\n\u001b[1;32m    318\u001b[0m \u001b[43m\u001b[49m\u001b[43m)\u001b[49m\n\u001b[1;32m    320\u001b[0m \u001b[38;5;28;01mreturn\u001b[39;00m \u001b[38;5;28mself\u001b[39m\u001b[38;5;241m.\u001b[39m_auto_result\n",
      "File \u001b[0;32m~/Library/Caches/pypoetry/virtualenvs/neo4j-python-LtdXbCXM-py3.10/lib/python3.10/site-packages/neo4j/_sync/work/result.py:181\u001b[0m, in \u001b[0;36mResult._run\u001b[0;34m(self, query, parameters, db, imp_user, access_mode, bookmarks, notifications_min_severity, notifications_disabled_categories)\u001b[0m\n\u001b[1;32m    179\u001b[0m \u001b[38;5;28mself\u001b[39m\u001b[38;5;241m.\u001b[39m_pull()\n\u001b[1;32m    180\u001b[0m \u001b[38;5;28mself\u001b[39m\u001b[38;5;241m.\u001b[39m_connection\u001b[38;5;241m.\u001b[39msend_all()\n\u001b[0;32m--> 181\u001b[0m \u001b[38;5;28;43mself\u001b[39;49m\u001b[38;5;241;43m.\u001b[39;49m\u001b[43m_attach\u001b[49m\u001b[43m(\u001b[49m\u001b[43m)\u001b[49m\n",
      "File \u001b[0;32m~/Library/Caches/pypoetry/virtualenvs/neo4j-python-LtdXbCXM-py3.10/lib/python3.10/site-packages/neo4j/_sync/work/result.py:298\u001b[0m, in \u001b[0;36mResult._attach\u001b[0;34m(self)\u001b[0m\n\u001b[1;32m    296\u001b[0m \u001b[38;5;28;01mif\u001b[39;00m \u001b[38;5;28mself\u001b[39m\u001b[38;5;241m.\u001b[39m_exhausted \u001b[38;5;129;01mis\u001b[39;00m \u001b[38;5;28;01mFalse\u001b[39;00m:\n\u001b[1;32m    297\u001b[0m     \u001b[38;5;28;01mwhile\u001b[39;00m \u001b[38;5;28mself\u001b[39m\u001b[38;5;241m.\u001b[39m_attached \u001b[38;5;129;01mis\u001b[39;00m \u001b[38;5;28;01mFalse\u001b[39;00m:\n\u001b[0;32m--> 298\u001b[0m         \u001b[38;5;28;43mself\u001b[39;49m\u001b[38;5;241;43m.\u001b[39;49m\u001b[43m_connection\u001b[49m\u001b[38;5;241;43m.\u001b[39;49m\u001b[43mfetch_message\u001b[49m\u001b[43m(\u001b[49m\u001b[43m)\u001b[49m\n",
      "File \u001b[0;32m~/Library/Caches/pypoetry/virtualenvs/neo4j-python-LtdXbCXM-py3.10/lib/python3.10/site-packages/neo4j/_sync/io/_common.py:178\u001b[0m, in \u001b[0;36mConnectionErrorHandler.__getattr__.<locals>.outer.<locals>.inner\u001b[0;34m(*args, **kwargs)\u001b[0m\n\u001b[1;32m    176\u001b[0m \u001b[38;5;28;01mdef\u001b[39;00m \u001b[38;5;21minner\u001b[39m(\u001b[38;5;241m*\u001b[39margs, \u001b[38;5;241m*\u001b[39m\u001b[38;5;241m*\u001b[39mkwargs):\n\u001b[1;32m    177\u001b[0m     \u001b[38;5;28;01mtry\u001b[39;00m:\n\u001b[0;32m--> 178\u001b[0m         \u001b[43mfunc\u001b[49m\u001b[43m(\u001b[49m\u001b[38;5;241;43m*\u001b[39;49m\u001b[43margs\u001b[49m\u001b[43m,\u001b[49m\u001b[43m \u001b[49m\u001b[38;5;241;43m*\u001b[39;49m\u001b[38;5;241;43m*\u001b[39;49m\u001b[43mkwargs\u001b[49m\u001b[43m)\u001b[49m\n\u001b[1;32m    179\u001b[0m     \u001b[38;5;28;01mexcept\u001b[39;00m (Neo4jError, ServiceUnavailable, SessionExpired) \u001b[38;5;28;01mas\u001b[39;00m exc:\n\u001b[1;32m    180\u001b[0m         \u001b[38;5;28;01massert\u001b[39;00m \u001b[38;5;129;01mnot\u001b[39;00m asyncio\u001b[38;5;241m.\u001b[39miscoroutinefunction(\u001b[38;5;28mself\u001b[39m\u001b[38;5;241m.\u001b[39m__on_error)\n",
      "File \u001b[0;32m~/Library/Caches/pypoetry/virtualenvs/neo4j-python-LtdXbCXM-py3.10/lib/python3.10/site-packages/neo4j/_sync/io/_bolt.py:849\u001b[0m, in \u001b[0;36mBolt.fetch_message\u001b[0;34m(self)\u001b[0m\n\u001b[1;32m    845\u001b[0m \u001b[38;5;66;03m# Receive exactly one message\u001b[39;00m\n\u001b[1;32m    846\u001b[0m tag, fields \u001b[38;5;241m=\u001b[39m \u001b[38;5;28mself\u001b[39m\u001b[38;5;241m.\u001b[39minbox\u001b[38;5;241m.\u001b[39mpop(\n\u001b[1;32m    847\u001b[0m     hydration_hooks\u001b[38;5;241m=\u001b[39m\u001b[38;5;28mself\u001b[39m\u001b[38;5;241m.\u001b[39mresponses[\u001b[38;5;241m0\u001b[39m]\u001b[38;5;241m.\u001b[39mhydration_hooks\n\u001b[1;32m    848\u001b[0m )\n\u001b[0;32m--> 849\u001b[0m res \u001b[38;5;241m=\u001b[39m \u001b[38;5;28;43mself\u001b[39;49m\u001b[38;5;241;43m.\u001b[39;49m\u001b[43m_process_message\u001b[49m\u001b[43m(\u001b[49m\u001b[43mtag\u001b[49m\u001b[43m,\u001b[49m\u001b[43m \u001b[49m\u001b[43mfields\u001b[49m\u001b[43m)\u001b[49m\n\u001b[1;32m    850\u001b[0m \u001b[38;5;28mself\u001b[39m\u001b[38;5;241m.\u001b[39midle_since \u001b[38;5;241m=\u001b[39m perf_counter()\n\u001b[1;32m    851\u001b[0m \u001b[38;5;28;01mreturn\u001b[39;00m res\n",
      "File \u001b[0;32m~/Library/Caches/pypoetry/virtualenvs/neo4j-python-LtdXbCXM-py3.10/lib/python3.10/site-packages/neo4j/_sync/io/_bolt5.py:374\u001b[0m, in \u001b[0;36mBolt5x0._process_message\u001b[0;34m(self, tag, fields)\u001b[0m\n\u001b[1;32m    372\u001b[0m \u001b[38;5;28mself\u001b[39m\u001b[38;5;241m.\u001b[39m_server_state_manager\u001b[38;5;241m.\u001b[39mstate \u001b[38;5;241m=\u001b[39m \u001b[38;5;28mself\u001b[39m\u001b[38;5;241m.\u001b[39mbolt_states\u001b[38;5;241m.\u001b[39mFAILED\n\u001b[1;32m    373\u001b[0m \u001b[38;5;28;01mtry\u001b[39;00m:\n\u001b[0;32m--> 374\u001b[0m     \u001b[43mresponse\u001b[49m\u001b[38;5;241;43m.\u001b[39;49m\u001b[43mon_failure\u001b[49m\u001b[43m(\u001b[49m\u001b[43msummary_metadata\u001b[49m\u001b[43m \u001b[49m\u001b[38;5;129;43;01mor\u001b[39;49;00m\u001b[43m \u001b[49m\u001b[43m{\u001b[49m\u001b[43m}\u001b[49m\u001b[43m)\u001b[49m\n\u001b[1;32m    375\u001b[0m \u001b[38;5;28;01mexcept\u001b[39;00m (ServiceUnavailable, DatabaseUnavailable):\n\u001b[1;32m    376\u001b[0m     \u001b[38;5;28;01mif\u001b[39;00m \u001b[38;5;28mself\u001b[39m\u001b[38;5;241m.\u001b[39mpool:\n",
      "File \u001b[0;32m~/Library/Caches/pypoetry/virtualenvs/neo4j-python-LtdXbCXM-py3.10/lib/python3.10/site-packages/neo4j/_sync/io/_common.py:245\u001b[0m, in \u001b[0;36mResponse.on_failure\u001b[0;34m(self, metadata)\u001b[0m\n\u001b[1;32m    243\u001b[0m handler \u001b[38;5;241m=\u001b[39m \u001b[38;5;28mself\u001b[39m\u001b[38;5;241m.\u001b[39mhandlers\u001b[38;5;241m.\u001b[39mget(\u001b[38;5;124m\"\u001b[39m\u001b[38;5;124mon_summary\u001b[39m\u001b[38;5;124m\"\u001b[39m)\n\u001b[1;32m    244\u001b[0m Util\u001b[38;5;241m.\u001b[39mcallback(handler)\n\u001b[0;32m--> 245\u001b[0m \u001b[38;5;28;01mraise\u001b[39;00m Neo4jError\u001b[38;5;241m.\u001b[39mhydrate(\u001b[38;5;241m*\u001b[39m\u001b[38;5;241m*\u001b[39mmetadata)\n",
      "\u001b[0;31mCypherSyntaxError\u001b[0m: {code: Neo.ClientError.Statement.SyntaxError} {message: Variable `Choice01` not defined (line 6, column 44 (offset: 316))\n\"        MERGE (stud)-[wants:WANTS {choice: Choice01, ranking:10}]->(spin)\"\n                                            ^}"
     ]
    }
   ],
   "source": [
    "execute(clean_up)\n",
    "# execute(show_all)\n",
    "execute(import_students)\n",
    "execute(import_SPINs.format(\"Choice01\"))\n",
    "execute(import_SPINs.format(\"Choice02\"))\n",
    "execute(import_SPINs.format(\"Choice03\"))\n",
    "execute(import_SPINs.format(\"Choice04\"))\n",
    "execute(import_SPINs.format(\"Choice05\"))\n",
    "execute(import_SPINs.format(\"IntensiveChoice01\"))\n",
    "execute(import_SPINs.format(\"IntensiveChoice02\"))\n",
    "execute(import_SPINs.format(\"IntensiveChoice03\"))\n",
    "execute(import_student_WANTS_spins.format(\"Choice01\", 10))\n",
    "execute(import_student_WANTS_spins.format(\"Choice02\", 8))\n",
    "execute(import_student_WANTS_spins.format(\"Choice03\", 6))\n",
    "execute(import_student_WANTS_spins.format(\"Choice04\", 4))\n",
    "execute(import_student_WANTS_spins.format(\"Choice05\", 2))\n",
    "execute(import_student_WANTS_spins.format(\"IntensiveChoice01\", 10))\n",
    "execute(import_student_WANTS_spins.format(\"IntensiveChoice02\", 8))\n",
    "execute(import_student_WANTS_spins.format(\"IntensiveChoice03\", 6))\n",
    "execute (import_student_level)\n",
    "execute(import_rooms)\n",
    "execute(import_blocks)\n",
    "execute(import_teachers)"
   ]
  },
  {
   "cell_type": "markdown",
   "metadata": {},
   "source": [
    "# Queries\n"
   ]
  },
  {
   "cell_type": "code",
   "execution_count": null,
   "metadata": {},
   "outputs": [],
   "source": [
    "# Top choices sorted by number of students choosing it as Choice01\n",
    "q = \"\"\"\n",
    "    MATCH (stud:Student)-[r:WANTS]->(spin)\n",
    "    WITH spin, r.ranking as rank, stud.level as level \n",
    "    RETURN count(*) as Total, level, rank, spin ORDER BY rank DESC,Total DESC\n",
    "\"\"\"\n",
    "records, summary, keys = neo4j.driver.execute_query(q)\n",
    "for record in records:\n",
    "    print(record.data())"
   ]
  },
  {
   "cell_type": "code",
   "execution_count": 16,
   "metadata": {},
   "outputs": [
    {
     "name": "stdout",
     "output_type": "stream",
     "text": [
      "{'spin': {'SPIN': '*Communication(A1-B2)'}, 'Choice01': 130, 'Choice02': 130, 'Choice03': 130, 'Choice04': 130, 'Choice05': 130, 'Score': 650}\n",
      "{'spin': {'SPIN': '*Learning Japanese w/ Games and Board Games(A1-B2)'}, 'Choice01': 129, 'Choice02': 129, 'Choice03': 129, 'Choice04': 129, 'Choice05': 129, 'Score': 645}\n",
      "{'spin': {'SPIN': 'ことば（Vocabulary ）'}, 'Choice01': 123, 'Choice02': 123, 'Choice03': 123, 'Choice04': 123, 'Choice05': 123, 'Score': 615}\n",
      "{'spin': {'SPIN': 'リスニング&アニメ (Listening and Anime)'}, 'Choice01': 120, 'Choice02': 120, 'Choice03': 120, 'Choice04': 120, 'Choice05': 120, 'Score': 600}\n",
      "{'spin': {'SPIN': '*JLPT Reading(A1.3-B2)'}, 'Choice01': 119, 'Choice02': 119, 'Choice03': 119, 'Choice04': 119, 'Choice05': 119, 'Score': 595}\n",
      "{'spin': {'SPIN': '生活の中の読解 Reading in Everyday Life (A1-B1)'}, 'Choice01': 118, 'Choice02': 118, 'Choice03': 118, 'Choice04': 118, 'Choice05': 118, 'Score': 590}\n",
      "{'spin': {'SPIN': 'Experience'}, 'Choice01': 96, 'Choice02': 96, 'Choice03': 96, 'Choice04': 96, 'Choice05': 96, 'Score': 480}\n",
      "{'spin': {'SPIN': 'N5 漢字 Kanji for JLPT N5（A1.1-A1.2）'}, 'Choice01': 93, 'Choice02': 93, 'Choice03': 93, 'Choice04': 93, 'Choice05': 93, 'Score': 465}\n",
      "{'spin': {'SPIN': 'JLPT文法 (JLPT Grammar) (A1.3-B2)'}, 'Choice01': 92, 'Choice02': 92, 'Choice03': 92, 'Choice04': 92, 'Choice05': 92, 'Score': 460}\n",
      "{'spin': {'SPIN': 'A1 Grammar (A1.2-A1.3)'}, 'Choice01': 88, 'Choice02': 88, 'Choice03': 88, 'Choice04': 88, 'Choice05': 88, 'Score': 440}\n",
      "{'spin': {'SPIN': '作文＆クリエイティブライティング（Basic＆Creative Writing）'}, 'Choice01': 73, 'Choice02': 73, 'Choice03': 73, 'Choice04': 73, 'Choice05': 73, 'Score': 365}\n",
      "{'spin': {'SPIN': 'N4 L11-20 漢字 Kanji for JLPT N4  L11-20 (A2.1-A2.3)'}, 'Choice01': 47, 'Choice02': 47, 'Choice03': 47, 'Choice04': 47, 'Choice05': 47, 'Score': 235}\n",
      "{'spin': {'SPIN': 'N4 L1-10 漢字 Kanji for JLPT N4 L1-10(A1.3-A2.1)'}, 'Choice01': 46, 'Choice02': 46, 'Choice03': 46, 'Choice04': 46, 'Choice05': 46, 'Score': 230}\n",
      "{'spin': {'SPIN': 'かな （Japanese Alphabet Hiragana）'}, 'Choice01': 28, 'Choice02': 28, 'Choice03': 28, 'Choice04': 28, 'Choice05': 28, 'Score': 140}\n",
      "{'spin': {'SPIN': 'カナ （Japanese Alphabet Katakana ）'}, 'Choice01': 26, 'Choice02': 26, 'Choice03': 26, 'Choice04': 26, 'Choice05': 26, 'Score': 130}\n",
      "{'spin': {'SPIN': '☆'}, 'Choice01': 1, 'Choice02': 1, 'Choice03': 1, 'Choice04': 1, 'Choice05': 1, 'Score': 5}\n",
      "{'spin': {'SPIN': '☆☆'}, 'Choice01': 1, 'Choice02': 1, 'Choice03': 1, 'Choice04': 1, 'Choice05': 1, 'Score': 5}\n",
      "{'spin': {'SPIN': '☆☆☆'}, 'Choice01': 1, 'Choice02': 1, 'Choice03': 1, 'Choice04': 1, 'Choice05': 1, 'Score': 5}\n"
     ]
    }
   ],
   "source": [
    "q = \"\"\"\n",
    "    MATCH (stud:Student)-[r:WANTS]->(spin:SPIN)\n",
    "    WITH spin,  count(r.ranking = 10) as Choice01, count(r.ranking = 8) as Choice02, \n",
    "    count(r.ranking = 6) as Choice03, count(r.ranking = 4) as Choice04, count(r.ranking = 2) as Choice05\n",
    "    RETURN  spin, Choice01, Choice02, Choice03, Choice04, Choice05, \n",
    "    (Choice01+ Choice02 + Choice03 + Choice04 + Choice05) as Score ORDER BY Score DESC\n",
    "\"\"\"\n",
    "records, summary, keys = neo4j.driver.execute_query(q)\n",
    "for record in records:\n",
    "    print(record.data())"
   ]
  },
  {
   "cell_type": "code",
   "execution_count": 22,
   "metadata": {},
   "outputs": [
    {
     "name": "stdout",
     "output_type": "stream",
     "text": [
      "{'spin': {'SPIN': '*Communication(A1-B2)'}, 'Choice01': 47, 'Choice02': 37, 'Choice03': 46, 'Choice04': 0, 'Choice05': 0, 'Score': 130}\n",
      "{'spin': {'SPIN': '*Learning Japanese w/ Games and Board Games(A1-B2)'}, 'Choice01': 59, 'Choice02': 31, 'Choice03': 39, 'Choice04': 0, 'Choice05': 0, 'Score': 129}\n",
      "{'spin': {'SPIN': 'ことば（Vocabulary ）'}, 'Choice01': 26, 'Choice02': 26, 'Choice03': 25, 'Choice04': 21, 'Choice05': 25, 'Score': 123}\n",
      "{'spin': {'SPIN': 'リスニング&アニメ (Listening and Anime)'}, 'Choice01': 41, 'Choice02': 21, 'Choice03': 18, 'Choice04': 16, 'Choice05': 24, 'Score': 120}\n",
      "{'spin': {'SPIN': '*JLPT Reading(A1.3-B2)'}, 'Choice01': 23, 'Choice02': 57, 'Choice03': 39, 'Choice04': 0, 'Choice05': 0, 'Score': 119}\n",
      "{'spin': {'SPIN': '生活の中の読解 Reading in Everyday Life (A1-B1)'}, 'Choice01': 18, 'Choice02': 36, 'Choice03': 30, 'Choice04': 24, 'Choice05': 10, 'Score': 118}\n",
      "{'spin': {'SPIN': 'Experience'}, 'Choice01': 10, 'Choice02': 21, 'Choice03': 22, 'Choice04': 17, 'Choice05': 26, 'Score': 96}\n",
      "{'spin': {'SPIN': 'N5 漢字 Kanji for JLPT N5（A1.1-A1.2）'}, 'Choice01': 29, 'Choice02': 20, 'Choice03': 21, 'Choice04': 18, 'Choice05': 5, 'Score': 93}\n",
      "{'spin': {'SPIN': 'JLPT文法 (JLPT Grammar) (A1.3-B2)'}, 'Choice01': 24, 'Choice02': 13, 'Choice03': 9, 'Choice04': 22, 'Choice05': 24, 'Score': 92}\n",
      "{'spin': {'SPIN': 'A1 Grammar (A1.2-A1.3)'}, 'Choice01': 12, 'Choice02': 17, 'Choice03': 18, 'Choice04': 17, 'Choice05': 24, 'Score': 88}\n",
      "{'spin': {'SPIN': '作文＆クリエイティブライティング（Basic＆Creative Writing）'}, 'Choice01': 9, 'Choice02': 6, 'Choice03': 18, 'Choice04': 20, 'Choice05': 20, 'Score': 73}\n",
      "{'spin': {'SPIN': 'N4 L11-20 漢字 Kanji for JLPT N4  L11-20 (A2.1-A2.3)'}, 'Choice01': 8, 'Choice02': 11, 'Choice03': 12, 'Choice04': 10, 'Choice05': 6, 'Score': 47}\n",
      "{'spin': {'SPIN': 'N4 L1-10 漢字 Kanji for JLPT N4 L1-10(A1.3-A2.1)'}, 'Choice01': 9, 'Choice02': 8, 'Choice03': 7, 'Choice04': 8, 'Choice05': 14, 'Score': 46}\n",
      "{'spin': {'SPIN': 'かな （Japanese Alphabet Hiragana）'}, 'Choice01': 4, 'Choice02': 3, 'Choice03': 4, 'Choice04': 10, 'Choice05': 7, 'Score': 28}\n",
      "{'spin': {'SPIN': 'カナ （Japanese Alphabet Katakana ）'}, 'Choice01': 0, 'Choice02': 8, 'Choice03': 6, 'Choice04': 7, 'Choice05': 5, 'Score': 26}\n",
      "{'spin': {'SPIN': '☆'}, 'Choice01': 1, 'Choice02': 0, 'Choice03': 0, 'Choice04': 0, 'Choice05': 0, 'Score': 1}\n",
      "{'spin': {'SPIN': '☆☆'}, 'Choice01': 0, 'Choice02': 1, 'Choice03': 0, 'Choice04': 0, 'Choice05': 0, 'Score': 1}\n",
      "{'spin': {'SPIN': '☆☆☆'}, 'Choice01': 0, 'Choice02': 0, 'Choice03': 1, 'Choice04': 0, 'Choice05': 0, 'Score': 1}\n"
     ]
    }
   ],
   "source": [
    "q = \"\"\"\n",
    "    MATCH (stud:Student)-[r:WANTS]->(spin:SPIN)\n",
    "    WITH spin, count(CASE WHEN r.ranking = 10 THEN 1 ELSE NULL END) as Choice01, \n",
    "    count(CASE WHEN r.ranking = 8 THEN 1 ELSE NULL END) as Choice02, \n",
    "    count(CASE WHEN r.ranking = 6 THEN 1 ELSE NULL END) as Choice03, \n",
    "    count(CASE WHEN r.ranking = 4 THEN 1 ELSE NULL END) as Choice04, \n",
    "    count(CASE WHEN r.ranking = 2 THEN 1 ELSE NULL END) as Choice05\n",
    "    RETURN spin, Choice01, Choice02, Choice03, Choice04, Choice05, \n",
    "    (Choice01 + Choice02 + Choice03 + Choice04 + Choice05) as Score ORDER BY Score DESC\n",
    "\"\"\"\n",
    "records, summary, keys = neo4j.driver.execute_query(q)\n",
    "for record in records:\n",
    "    print(record.data())"
   ]
  },
  {
   "cell_type": "code",
   "execution_count": 18,
   "metadata": {},
   "outputs": [
    {
     "name": "stdout",
     "output_type": "stream",
     "text": [
      "{'spin': {'SPIN': 'N5 漢字 Kanji for JLPT N5（A1.1-A1.2）'}, 'Count10': 29, 'Count8': 20, 'Count6': 21, 'Count4': 18, 'Count2': 5}\n",
      "{'spin': {'SPIN': '作文＆クリエイティブライティング（Basic＆Creative Writing）'}, 'Count10': 9, 'Count8': 6, 'Count6': 18, 'Count4': 20, 'Count2': 20}\n",
      "{'spin': {'SPIN': 'JLPT文法 (JLPT Grammar) (A1.3-B2)'}, 'Count10': 24, 'Count8': 13, 'Count6': 9, 'Count4': 22, 'Count2': 24}\n",
      "{'spin': {'SPIN': 'リスニング&アニメ (Listening and Anime)'}, 'Count10': 41, 'Count8': 21, 'Count6': 18, 'Count4': 16, 'Count2': 24}\n",
      "{'spin': {'SPIN': 'Experience'}, 'Count10': 10, 'Count8': 21, 'Count6': 22, 'Count4': 17, 'Count2': 26}\n",
      "{'spin': {'SPIN': 'ことば（Vocabulary ）'}, 'Count10': 26, 'Count8': 26, 'Count6': 25, 'Count4': 21, 'Count2': 25}\n",
      "{'spin': {'SPIN': 'A1 Grammar (A1.2-A1.3)'}, 'Count10': 12, 'Count8': 17, 'Count6': 18, 'Count4': 17, 'Count2': 24}\n",
      "{'spin': {'SPIN': '生活の中の読解 Reading in Everyday Life (A1-B1)'}, 'Count10': 18, 'Count8': 36, 'Count6': 30, 'Count4': 24, 'Count2': 10}\n",
      "{'spin': {'SPIN': 'N4 L1-10 漢字 Kanji for JLPT N4 L1-10(A1.3-A2.1)'}, 'Count10': 9, 'Count8': 8, 'Count6': 7, 'Count4': 8, 'Count2': 14}\n",
      "{'spin': {'SPIN': 'N4 L11-20 漢字 Kanji for JLPT N4  L11-20 (A2.1-A2.3)'}, 'Count10': 8, 'Count8': 11, 'Count6': 12, 'Count4': 10, 'Count2': 6}\n",
      "{'spin': {'SPIN': 'かな （Japanese Alphabet Hiragana）'}, 'Count10': 4, 'Count8': 3, 'Count6': 4, 'Count4': 10, 'Count2': 7}\n",
      "{'spin': {'SPIN': 'カナ （Japanese Alphabet Katakana ）'}, 'Count10': 0, 'Count8': 8, 'Count6': 6, 'Count4': 7, 'Count2': 5}\n",
      "{'spin': {'SPIN': '*JLPT Reading(A1.3-B2)'}, 'Count10': 23, 'Count8': 57, 'Count6': 39, 'Count4': 0, 'Count2': 0}\n",
      "{'spin': {'SPIN': '*Communication(A1-B2)'}, 'Count10': 47, 'Count8': 37, 'Count6': 46, 'Count4': 0, 'Count2': 0}\n",
      "{'spin': {'SPIN': '*Learning Japanese w/ Games and Board Games(A1-B2)'}, 'Count10': 59, 'Count8': 31, 'Count6': 39, 'Count4': 0, 'Count2': 0}\n",
      "{'spin': {'SPIN': '☆'}, 'Count10': 1, 'Count8': 0, 'Count6': 0, 'Count4': 0, 'Count2': 0}\n",
      "{'spin': {'SPIN': '☆☆'}, 'Count10': 0, 'Count8': 1, 'Count6': 0, 'Count4': 0, 'Count2': 0}\n",
      "{'spin': {'SPIN': '☆☆☆'}, 'Count10': 0, 'Count8': 0, 'Count6': 1, 'Count4': 0, 'Count2': 0}\n"
     ]
    }
   ],
   "source": [
    "q = \"\"\"\n",
    "    MATCH (stud:Student)-[r:WANTS]->(spin:SPIN)\n",
    "    RETURN spin,\n",
    "    sum(CASE WHEN r.ranking = 10 THEN 1 ELSE 0 END) as Count10,\n",
    "    sum(CASE WHEN r.ranking = 8 THEN 1 ELSE 0 END) as Count8,\n",
    "    sum(CASE WHEN r.ranking = 6 THEN 1 ELSE 0 END) as Count6,\n",
    "    sum(CASE WHEN r.ranking = 4 THEN 1 ELSE 0 END) as Count4,\n",
    "    sum(CASE WHEN r.ranking = 2 THEN 1 ELSE 0 END) as Count2\n",
    "\"\"\"\n",
    "records, summary, keys = neo4j.driver.execute_query(q)\n",
    "for record in records:\n",
    "    print(record.data())"
   ]
  },
  {
   "cell_type": "code",
   "execution_count": 26,
   "metadata": {},
   "outputs": [
    {
     "data": {
      "text/plain": [
       "<neo4j._sync.work.result.Result at 0x10aae5900>"
      ]
     },
     "execution_count": 26,
     "metadata": {},
     "output_type": "execute_result"
    }
   ],
   "source": [
    "execute(import_rooms)"
   ]
  },
  {
   "cell_type": "code",
   "execution_count": null,
   "metadata": {},
   "outputs": [],
   "source": []
  }
 ],
 "metadata": {
  "kernelspec": {
   "display_name": "neo4j-python-LtdXbCXM-py3.10",
   "language": "python",
   "name": "python3"
  },
  "language_info": {
   "codemirror_mode": {
    "name": "ipython",
    "version": 3
   },
   "file_extension": ".py",
   "mimetype": "text/x-python",
   "name": "python",
   "nbconvert_exporter": "python",
   "pygments_lexer": "ipython3",
   "version": "3.10.13"
  }
 },
 "nbformat": 4,
 "nbformat_minor": 2
}
