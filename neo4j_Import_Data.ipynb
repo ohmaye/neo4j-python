{
 "cells": [
  {
   "cell_type": "code",
   "execution_count": 1,
   "metadata": {},
   "outputs": [],
   "source": [
    "from neo4j import GraphDatabase\n",
    "\n",
    "class Neo4j:\n",
    "\n",
    "    def __init__(self, uri, user, password):\n",
    "        self.driver = GraphDatabase.driver(uri, auth=(user, password))\n",
    "\n",
    "    def close(self):\n",
    "        self.driver.close()\n",
    "\n",
    "neo4j = Neo4j(\"bolt://localhost:7687\", \"neo4j\", \"password\")"
   ]
  },
  {
   "cell_type": "code",
   "execution_count": 2,
   "metadata": {},
   "outputs": [],
   "source": [
    "# neo4j.driver.execute_query(\"MATCH (p) RETURN p LIMIT 2\")\n",
    "\n",
    "def execute(query):\n",
    "    with neo4j.driver.session() as session:\n",
    "        result = session.run(query)\n",
    "        return result"
   ]
  },
  {
   "cell_type": "markdown",
   "metadata": {},
   "source": [
    "# Import Data\n"
   ]
  },
  {
   "cell_type": "markdown",
   "metadata": {},
   "source": [
    "## Queries\n"
   ]
  },
  {
   "cell_type": "code",
   "execution_count": 15,
   "metadata": {},
   "outputs": [],
   "source": [
    "clean_up = \"MATCH (n) DETACH DELETE n\"\n",
    "show_all = \"MATCH (n) RETURN n\"\n",
    "\n",
    "# Import files: /Users/enioohmaye/Library/Application Support/Neo4j Desktop/Application/relate-data/dbmss/dbms-41d35f05-e4e0-4f5a-a04e-64b41bb80839/import\n",
    "\n",
    "# Load SPINs\n",
    "import_students = \"\"\"\n",
    "        LOAD CSV WITH HEADERS FROM 'file:///SPINChoice.csv' AS row\n",
    "        WITH row WHERE row.FirstName IS NOT NULL\n",
    "        MERGE (s:Student {id: apoc.create.uuid(), firstName:row.FirstName, lastName:row.LastName})\n",
    "\"\"\"\n",
    "\n",
    "import_SPINs = \"\"\"\n",
    "        LOAD CSV WITH HEADERS FROM 'file:///SPINChoice.csv' AS row\n",
    "        WITH row WHERE row.{0} IS NOT NULL\n",
    "        MERGE (s:SPIN {{SPIN:row.{0}}})\n",
    "        ON CREATE SET s.id = apoc.create.uuid()\n",
    "\"\"\"\n",
    "\n",
    "import_student_WANTS_spins = \"\"\"\n",
    "        LOAD CSV WITH HEADERS FROM 'file:///SPINChoice.csv' AS row\n",
    "        WITH row WHERE row.FirstName IS NOT NULL\n",
    "        MATCH (stud:Student) WHERE row.FirstName = stud.firstName and row.LastName = stud.lastName\n",
    "        MATCH (spin:SPIN) WHERE spin.SPIN = row.{0}\n",
    "        CREATE (stud)-[wants:WANTS {{ranking:{1}, choice:'{0}'}}]->(spin)\n",
    "\"\"\"\n",
    "\n",
    "\n",
    "import_student_level = \"\"\"\n",
    "        LOAD CSV WITH HEADERS FROM 'file:///2_Weekly_Student_Class.csv' AS row\n",
    "        WITH row WHERE row.`First Name` IS NOT NULL\n",
    "        MATCH (stud:Student) WHERE row.`First Name` = stud.firstName and row.`Last Name` = stud.lastName\n",
    "        SET stud.level = row.Level\n",
    "\"\"\"\n",
    "import_rooms = \"\"\"\n",
    "        LOAD CSV WITH HEADERS FROM 'file:///Rooms.csv' AS row\n",
    "        WITH row WHERE row.Room IS NOT NULL\n",
    "        MERGE (r:Room {id: apoc.create.uuid(), name:row.Room, capacity:coalesce(row.Capacity, 'Unknown'), type:coalesce(row.Type,'Unknown')})\n",
    "\"\"\"\n",
    "import_blocks = \"\"\"\n",
    "        LOAD CSV WITH HEADERS FROM 'file:///Blocks.csv' AS row\n",
    "        WITH row WHERE row.Block IS NOT NULL\n",
    "        MERGE (r:Block {id: apoc.create.uuid(), name:row.Block, startTime: row.startTime, endTime: row.endTime})\n",
    "\"\"\"\n",
    "\n",
    "import_teachers = \"\"\"\n",
    "        LOAD CSV WITH HEADERS FROM 'file:///Teachers.csv' AS row\n",
    "        WITH row WHERE row.Teacher IS NOT NULL\n",
    "        MERGE (r:Teacher {id: apoc.create.uuid(), name:row.Teacher})\n",
    "\"\"\""
   ]
  },
  {
   "cell_type": "code",
   "execution_count": 16,
   "metadata": {},
   "outputs": [
    {
     "data": {
      "text/plain": [
       "<neo4j._sync.work.result.Result at 0x17e4084c0>"
      ]
     },
     "execution_count": 16,
     "metadata": {},
     "output_type": "execute_result"
    }
   ],
   "source": [
    "execute(clean_up)\n",
    "# execute(show_all)\n",
    "execute(import_students)\n",
    "execute(import_SPINs.format(\"Choice01\"))\n",
    "execute(import_SPINs.format(\"Choice02\"))\n",
    "execute(import_SPINs.format(\"Choice03\"))\n",
    "execute(import_SPINs.format(\"Choice04\"))\n",
    "execute(import_SPINs.format(\"Choice05\"))\n",
    "execute(import_SPINs.format(\"IntensiveChoice01\"))\n",
    "execute(import_SPINs.format(\"IntensiveChoice02\"))\n",
    "execute(import_SPINs.format(\"IntensiveChoice03\"))\n",
    "execute(import_student_WANTS_spins.format(\"Choice01\", 10))\n",
    "execute(import_student_WANTS_spins.format(\"Choice02\", 8))\n",
    "execute(import_student_WANTS_spins.format(\"Choice03\", 6))\n",
    "execute(import_student_WANTS_spins.format(\"Choice04\", 4))\n",
    "execute(import_student_WANTS_spins.format(\"Choice05\", 2))\n",
    "execute(import_student_WANTS_spins.format(\"IntensiveChoice01\", 10))\n",
    "execute(import_student_WANTS_spins.format(\"IntensiveChoice02\", 8))\n",
    "execute(import_student_WANTS_spins.format(\"IntensiveChoice03\", 6))\n",
    "execute (import_student_level)\n",
    "execute(import_rooms)\n",
    "execute(import_blocks)\n",
    "execute(import_teachers)"
   ]
  },
  {
   "cell_type": "markdown",
   "metadata": {},
   "source": [
    "# Queries\n"
   ]
  },
  {
   "cell_type": "code",
   "execution_count": null,
   "metadata": {},
   "outputs": [],
   "source": [
    "# Top choices sorted by number of students choosing it as Choice01\n",
    "q = \"\"\"\n",
    "    MATCH (stud:Student)-[r:WANTS]->(spin)\n",
    "    WITH spin, r.ranking as rank, stud.level as level \n",
    "    RETURN count(*) as Total, level, rank, spin ORDER BY rank DESC,Total DESC\n",
    "\"\"\"\n",
    "records, summary, keys = neo4j.driver.execute_query(q)\n",
    "for record in records:\n",
    "    print(record.data())"
   ]
  },
  {
   "cell_type": "code",
   "execution_count": 16,
   "metadata": {},
   "outputs": [
    {
     "name": "stdout",
     "output_type": "stream",
     "text": [
      "{'spin': {'SPIN': '*Communication(A1-B2)'}, 'Choice01': 130, 'Choice02': 130, 'Choice03': 130, 'Choice04': 130, 'Choice05': 130, 'Score': 650}\n",
      "{'spin': {'SPIN': '*Learning Japanese w/ Games and Board Games(A1-B2)'}, 'Choice01': 129, 'Choice02': 129, 'Choice03': 129, 'Choice04': 129, 'Choice05': 129, 'Score': 645}\n",
      "{'spin': {'SPIN': 'ことば（Vocabulary ）'}, 'Choice01': 123, 'Choice02': 123, 'Choice03': 123, 'Choice04': 123, 'Choice05': 123, 'Score': 615}\n",
      "{'spin': {'SPIN': 'リスニング&アニメ (Listening and Anime)'}, 'Choice01': 120, 'Choice02': 120, 'Choice03': 120, 'Choice04': 120, 'Choice05': 120, 'Score': 600}\n",
      "{'spin': {'SPIN': '*JLPT Reading(A1.3-B2)'}, 'Choice01': 119, 'Choice02': 119, 'Choice03': 119, 'Choice04': 119, 'Choice05': 119, 'Score': 595}\n",
      "{'spin': {'SPIN': '生活の中の読解 Reading in Everyday Life (A1-B1)'}, 'Choice01': 118, 'Choice02': 118, 'Choice03': 118, 'Choice04': 118, 'Choice05': 118, 'Score': 590}\n",
      "{'spin': {'SPIN': 'Experience'}, 'Choice01': 96, 'Choice02': 96, 'Choice03': 96, 'Choice04': 96, 'Choice05': 96, 'Score': 480}\n",
      "{'spin': {'SPIN': 'N5 漢字 Kanji for JLPT N5（A1.1-A1.2）'}, 'Choice01': 93, 'Choice02': 93, 'Choice03': 93, 'Choice04': 93, 'Choice05': 93, 'Score': 465}\n",
      "{'spin': {'SPIN': 'JLPT文法 (JLPT Grammar) (A1.3-B2)'}, 'Choice01': 92, 'Choice02': 92, 'Choice03': 92, 'Choice04': 92, 'Choice05': 92, 'Score': 460}\n",
      "{'spin': {'SPIN': 'A1 Grammar (A1.2-A1.3)'}, 'Choice01': 88, 'Choice02': 88, 'Choice03': 88, 'Choice04': 88, 'Choice05': 88, 'Score': 440}\n",
      "{'spin': {'SPIN': '作文＆クリエイティブライティング（Basic＆Creative Writing）'}, 'Choice01': 73, 'Choice02': 73, 'Choice03': 73, 'Choice04': 73, 'Choice05': 73, 'Score': 365}\n",
      "{'spin': {'SPIN': 'N4 L11-20 漢字 Kanji for JLPT N4  L11-20 (A2.1-A2.3)'}, 'Choice01': 47, 'Choice02': 47, 'Choice03': 47, 'Choice04': 47, 'Choice05': 47, 'Score': 235}\n",
      "{'spin': {'SPIN': 'N4 L1-10 漢字 Kanji for JLPT N4 L1-10(A1.3-A2.1)'}, 'Choice01': 46, 'Choice02': 46, 'Choice03': 46, 'Choice04': 46, 'Choice05': 46, 'Score': 230}\n",
      "{'spin': {'SPIN': 'かな （Japanese Alphabet Hiragana）'}, 'Choice01': 28, 'Choice02': 28, 'Choice03': 28, 'Choice04': 28, 'Choice05': 28, 'Score': 140}\n",
      "{'spin': {'SPIN': 'カナ （Japanese Alphabet Katakana ）'}, 'Choice01': 26, 'Choice02': 26, 'Choice03': 26, 'Choice04': 26, 'Choice05': 26, 'Score': 130}\n",
      "{'spin': {'SPIN': '☆'}, 'Choice01': 1, 'Choice02': 1, 'Choice03': 1, 'Choice04': 1, 'Choice05': 1, 'Score': 5}\n",
      "{'spin': {'SPIN': '☆☆'}, 'Choice01': 1, 'Choice02': 1, 'Choice03': 1, 'Choice04': 1, 'Choice05': 1, 'Score': 5}\n",
      "{'spin': {'SPIN': '☆☆☆'}, 'Choice01': 1, 'Choice02': 1, 'Choice03': 1, 'Choice04': 1, 'Choice05': 1, 'Score': 5}\n"
     ]
    }
   ],
   "source": [
    "q = \"\"\"\n",
    "    MATCH (stud:Student)-[r:WANTS]->(spin:SPIN)\n",
    "    WITH spin,  count(r.ranking = 10) as Choice01, count(r.ranking = 8) as Choice02, \n",
    "    count(r.ranking = 6) as Choice03, count(r.ranking = 4) as Choice04, count(r.ranking = 2) as Choice05\n",
    "    RETURN  spin, Choice01, Choice02, Choice03, Choice04, Choice05, \n",
    "    (Choice01+ Choice02 + Choice03 + Choice04 + Choice05) as Score ORDER BY Score DESC\n",
    "\"\"\"\n",
    "records, summary, keys = neo4j.driver.execute_query(q)\n",
    "for record in records:\n",
    "    print(record.data())"
   ]
  },
  {
   "cell_type": "code",
   "execution_count": 22,
   "metadata": {},
   "outputs": [
    {
     "name": "stdout",
     "output_type": "stream",
     "text": [
      "{'spin': {'SPIN': '*Communication(A1-B2)'}, 'Choice01': 47, 'Choice02': 37, 'Choice03': 46, 'Choice04': 0, 'Choice05': 0, 'Score': 130}\n",
      "{'spin': {'SPIN': '*Learning Japanese w/ Games and Board Games(A1-B2)'}, 'Choice01': 59, 'Choice02': 31, 'Choice03': 39, 'Choice04': 0, 'Choice05': 0, 'Score': 129}\n",
      "{'spin': {'SPIN': 'ことば（Vocabulary ）'}, 'Choice01': 26, 'Choice02': 26, 'Choice03': 25, 'Choice04': 21, 'Choice05': 25, 'Score': 123}\n",
      "{'spin': {'SPIN': 'リスニング&アニメ (Listening and Anime)'}, 'Choice01': 41, 'Choice02': 21, 'Choice03': 18, 'Choice04': 16, 'Choice05': 24, 'Score': 120}\n",
      "{'spin': {'SPIN': '*JLPT Reading(A1.3-B2)'}, 'Choice01': 23, 'Choice02': 57, 'Choice03': 39, 'Choice04': 0, 'Choice05': 0, 'Score': 119}\n",
      "{'spin': {'SPIN': '生活の中の読解 Reading in Everyday Life (A1-B1)'}, 'Choice01': 18, 'Choice02': 36, 'Choice03': 30, 'Choice04': 24, 'Choice05': 10, 'Score': 118}\n",
      "{'spin': {'SPIN': 'Experience'}, 'Choice01': 10, 'Choice02': 21, 'Choice03': 22, 'Choice04': 17, 'Choice05': 26, 'Score': 96}\n",
      "{'spin': {'SPIN': 'N5 漢字 Kanji for JLPT N5（A1.1-A1.2）'}, 'Choice01': 29, 'Choice02': 20, 'Choice03': 21, 'Choice04': 18, 'Choice05': 5, 'Score': 93}\n",
      "{'spin': {'SPIN': 'JLPT文法 (JLPT Grammar) (A1.3-B2)'}, 'Choice01': 24, 'Choice02': 13, 'Choice03': 9, 'Choice04': 22, 'Choice05': 24, 'Score': 92}\n",
      "{'spin': {'SPIN': 'A1 Grammar (A1.2-A1.3)'}, 'Choice01': 12, 'Choice02': 17, 'Choice03': 18, 'Choice04': 17, 'Choice05': 24, 'Score': 88}\n",
      "{'spin': {'SPIN': '作文＆クリエイティブライティング（Basic＆Creative Writing）'}, 'Choice01': 9, 'Choice02': 6, 'Choice03': 18, 'Choice04': 20, 'Choice05': 20, 'Score': 73}\n",
      "{'spin': {'SPIN': 'N4 L11-20 漢字 Kanji for JLPT N4  L11-20 (A2.1-A2.3)'}, 'Choice01': 8, 'Choice02': 11, 'Choice03': 12, 'Choice04': 10, 'Choice05': 6, 'Score': 47}\n",
      "{'spin': {'SPIN': 'N4 L1-10 漢字 Kanji for JLPT N4 L1-10(A1.3-A2.1)'}, 'Choice01': 9, 'Choice02': 8, 'Choice03': 7, 'Choice04': 8, 'Choice05': 14, 'Score': 46}\n",
      "{'spin': {'SPIN': 'かな （Japanese Alphabet Hiragana）'}, 'Choice01': 4, 'Choice02': 3, 'Choice03': 4, 'Choice04': 10, 'Choice05': 7, 'Score': 28}\n",
      "{'spin': {'SPIN': 'カナ （Japanese Alphabet Katakana ）'}, 'Choice01': 0, 'Choice02': 8, 'Choice03': 6, 'Choice04': 7, 'Choice05': 5, 'Score': 26}\n",
      "{'spin': {'SPIN': '☆'}, 'Choice01': 1, 'Choice02': 0, 'Choice03': 0, 'Choice04': 0, 'Choice05': 0, 'Score': 1}\n",
      "{'spin': {'SPIN': '☆☆'}, 'Choice01': 0, 'Choice02': 1, 'Choice03': 0, 'Choice04': 0, 'Choice05': 0, 'Score': 1}\n",
      "{'spin': {'SPIN': '☆☆☆'}, 'Choice01': 0, 'Choice02': 0, 'Choice03': 1, 'Choice04': 0, 'Choice05': 0, 'Score': 1}\n"
     ]
    }
   ],
   "source": [
    "q = \"\"\"\n",
    "    MATCH (stud:Student)-[r:WANTS]->(spin:SPIN)\n",
    "    WITH spin, count(CASE WHEN r.ranking = 10 THEN 1 ELSE NULL END) as Choice01, \n",
    "    count(CASE WHEN r.ranking = 8 THEN 1 ELSE NULL END) as Choice02, \n",
    "    count(CASE WHEN r.ranking = 6 THEN 1 ELSE NULL END) as Choice03, \n",
    "    count(CASE WHEN r.ranking = 4 THEN 1 ELSE NULL END) as Choice04, \n",
    "    count(CASE WHEN r.ranking = 2 THEN 1 ELSE NULL END) as Choice05\n",
    "    RETURN spin, Choice01, Choice02, Choice03, Choice04, Choice05, \n",
    "    (Choice01 + Choice02 + Choice03 + Choice04 + Choice05) as Score ORDER BY Score DESC\n",
    "\"\"\"\n",
    "records, summary, keys = neo4j.driver.execute_query(q)\n",
    "for record in records:\n",
    "    print(record.data())"
   ]
  },
  {
   "cell_type": "code",
   "execution_count": 18,
   "metadata": {},
   "outputs": [
    {
     "name": "stdout",
     "output_type": "stream",
     "text": [
      "{'spin': {'SPIN': 'N5 漢字 Kanji for JLPT N5（A1.1-A1.2）'}, 'Count10': 29, 'Count8': 20, 'Count6': 21, 'Count4': 18, 'Count2': 5}\n",
      "{'spin': {'SPIN': '作文＆クリエイティブライティング（Basic＆Creative Writing）'}, 'Count10': 9, 'Count8': 6, 'Count6': 18, 'Count4': 20, 'Count2': 20}\n",
      "{'spin': {'SPIN': 'JLPT文法 (JLPT Grammar) (A1.3-B2)'}, 'Count10': 24, 'Count8': 13, 'Count6': 9, 'Count4': 22, 'Count2': 24}\n",
      "{'spin': {'SPIN': 'リスニング&アニメ (Listening and Anime)'}, 'Count10': 41, 'Count8': 21, 'Count6': 18, 'Count4': 16, 'Count2': 24}\n",
      "{'spin': {'SPIN': 'Experience'}, 'Count10': 10, 'Count8': 21, 'Count6': 22, 'Count4': 17, 'Count2': 26}\n",
      "{'spin': {'SPIN': 'ことば（Vocabulary ）'}, 'Count10': 26, 'Count8': 26, 'Count6': 25, 'Count4': 21, 'Count2': 25}\n",
      "{'spin': {'SPIN': 'A1 Grammar (A1.2-A1.3)'}, 'Count10': 12, 'Count8': 17, 'Count6': 18, 'Count4': 17, 'Count2': 24}\n",
      "{'spin': {'SPIN': '生活の中の読解 Reading in Everyday Life (A1-B1)'}, 'Count10': 18, 'Count8': 36, 'Count6': 30, 'Count4': 24, 'Count2': 10}\n",
      "{'spin': {'SPIN': 'N4 L1-10 漢字 Kanji for JLPT N4 L1-10(A1.3-A2.1)'}, 'Count10': 9, 'Count8': 8, 'Count6': 7, 'Count4': 8, 'Count2': 14}\n",
      "{'spin': {'SPIN': 'N4 L11-20 漢字 Kanji for JLPT N4  L11-20 (A2.1-A2.3)'}, 'Count10': 8, 'Count8': 11, 'Count6': 12, 'Count4': 10, 'Count2': 6}\n",
      "{'spin': {'SPIN': 'かな （Japanese Alphabet Hiragana）'}, 'Count10': 4, 'Count8': 3, 'Count6': 4, 'Count4': 10, 'Count2': 7}\n",
      "{'spin': {'SPIN': 'カナ （Japanese Alphabet Katakana ）'}, 'Count10': 0, 'Count8': 8, 'Count6': 6, 'Count4': 7, 'Count2': 5}\n",
      "{'spin': {'SPIN': '*JLPT Reading(A1.3-B2)'}, 'Count10': 23, 'Count8': 57, 'Count6': 39, 'Count4': 0, 'Count2': 0}\n",
      "{'spin': {'SPIN': '*Communication(A1-B2)'}, 'Count10': 47, 'Count8': 37, 'Count6': 46, 'Count4': 0, 'Count2': 0}\n",
      "{'spin': {'SPIN': '*Learning Japanese w/ Games and Board Games(A1-B2)'}, 'Count10': 59, 'Count8': 31, 'Count6': 39, 'Count4': 0, 'Count2': 0}\n",
      "{'spin': {'SPIN': '☆'}, 'Count10': 1, 'Count8': 0, 'Count6': 0, 'Count4': 0, 'Count2': 0}\n",
      "{'spin': {'SPIN': '☆☆'}, 'Count10': 0, 'Count8': 1, 'Count6': 0, 'Count4': 0, 'Count2': 0}\n",
      "{'spin': {'SPIN': '☆☆☆'}, 'Count10': 0, 'Count8': 0, 'Count6': 1, 'Count4': 0, 'Count2': 0}\n"
     ]
    }
   ],
   "source": [
    "q = \"\"\"\n",
    "    MATCH (stud:Student)-[r:WANTS]->(spin:SPIN)\n",
    "    RETURN spin,\n",
    "    sum(CASE WHEN r.ranking = 10 THEN 1 ELSE 0 END) as Count10,\n",
    "    sum(CASE WHEN r.ranking = 8 THEN 1 ELSE 0 END) as Count8,\n",
    "    sum(CASE WHEN r.ranking = 6 THEN 1 ELSE 0 END) as Count6,\n",
    "    sum(CASE WHEN r.ranking = 4 THEN 1 ELSE 0 END) as Count4,\n",
    "    sum(CASE WHEN r.ranking = 2 THEN 1 ELSE 0 END) as Count2\n",
    "\"\"\"\n",
    "records, summary, keys = neo4j.driver.execute_query(q)\n",
    "for record in records:\n",
    "    print(record.data())"
   ]
  },
  {
   "cell_type": "code",
   "execution_count": 26,
   "metadata": {},
   "outputs": [
    {
     "data": {
      "text/plain": [
       "<neo4j._sync.work.result.Result at 0x10aae5900>"
      ]
     },
     "execution_count": 26,
     "metadata": {},
     "output_type": "execute_result"
    }
   ],
   "source": [
    "execute(import_rooms)"
   ]
  },
  {
   "cell_type": "code",
   "execution_count": 2,
   "metadata": {},
   "outputs": [
    {
     "name": "stdout",
     "output_type": "stream",
     "text": [
      "f43377ba-0ff1-40bf-887d-53b2ba8336df\n"
     ]
    }
   ],
   "source": [
    "import uuid\n",
    "id = uuid.uuid4()\n",
    "print(id)"
   ]
  },
  {
   "cell_type": "code",
   "execution_count": null,
   "metadata": {},
   "outputs": [],
   "source": []
  }
 ],
 "metadata": {
  "kernelspec": {
   "display_name": "neo4j-python-LtdXbCXM-py3.10",
   "language": "python",
   "name": "python3"
  },
  "language_info": {
   "codemirror_mode": {
    "name": "ipython",
    "version": 3
   },
   "file_extension": ".py",
   "mimetype": "text/x-python",
   "name": "python",
   "nbconvert_exporter": "python",
   "pygments_lexer": "ipython3",
   "version": "3.10.13"
  }
 },
 "nbformat": 4,
 "nbformat_minor": 2
}
