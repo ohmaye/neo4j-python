{
 "cells": [
  {
   "cell_type": "code",
   "execution_count": 1,
   "metadata": {},
   "outputs": [],
   "source": [
    "from neo4j import GraphDatabase\n",
    "\n",
    "class Neo4j:\n",
    "\n",
    "    def __init__(self, uri, user, password):\n",
    "        self.driver = GraphDatabase.driver(uri, auth=(user, password))\n",
    "\n",
    "    def close(self):\n",
    "        self.driver.close()\n",
    "\n",
    "neo4j = Neo4j(\"bolt://localhost:7687\", \"neo4j\", \"password\")"
   ]
  },
  {
   "cell_type": "code",
   "execution_count": 2,
   "metadata": {},
   "outputs": [],
   "source": [
    "# neo4j.driver.execute_query(\"MATCH (p) RETURN p LIMIT 2\")\n",
    "\n",
    "def execute(query):\n",
    "    with neo4j.driver.session() as session:\n",
    "        result = session.run(query)\n",
    "        return result"
   ]
  },
  {
   "cell_type": "markdown",
   "metadata": {},
   "source": [
    "# Import Data\n"
   ]
  },
  {
   "cell_type": "markdown",
   "metadata": {},
   "source": [
    "## Queries\n"
   ]
  },
  {
   "cell_type": "code",
   "execution_count": 17,
   "metadata": {},
   "outputs": [],
   "source": [
    "clean_up = \"MATCH (n) DETACH DELETE n\"\n",
    "show_all = \"MATCH (n) RETURN n\"\n",
    "\n",
    "# Import files: /Users/enioohmaye/Library/Application Support/Neo4j Desktop/Application/relate-data/dbmss/dbms-41d35f05-e4e0-4f5a-a04e-64b41bb80839/import\n",
    "\n",
    "# Load SPINs\n",
    "import_students = \"\"\"\n",
    "        LOAD CSV WITH HEADERS FROM 'file:///SPINChoice.csv' AS row\n",
    "        WITH row WHERE row.FirstName IS NOT NULL\n",
    "        MERGE (s:Student {id: apoc.create.uuid(), firstName:row.FirstName, lastName:row.LastName})\n",
    "\"\"\"\n",
    "\n",
    "import_SPINs = \"\"\"\n",
    "        LOAD CSV WITH HEADERS FROM 'file:///SPINChoice.csv' AS row\n",
    "        WITH row WHERE row.{0} IS NOT NULL\n",
    "        MERGE (s:SPIN {{name:row.{0}}})\n",
    "        ON CREATE SET s.id = apoc.create.uuid()\n",
    "\"\"\"\n",
    "\n",
    "import_student_WANTS_spins = \"\"\"\n",
    "        LOAD CSV WITH HEADERS FROM 'file:///SPINChoice.csv' AS row\n",
    "        WITH row WHERE row.FirstName IS NOT NULL\n",
    "        MATCH (stud:Student) WHERE row.FirstName = stud.firstName and row.LastName = stud.lastName\n",
    "        MATCH (spin:SPIN) WHERE spin.name = row.{0}\n",
    "        CREATE (stud)-[wants:WANTS {{ranking:{1}, choice:'{0}'}}]->(spin)\n",
    "\"\"\"\n",
    "\n",
    "\n",
    "import_student_level = \"\"\"\n",
    "        LOAD CSV WITH HEADERS FROM 'file:///2_Weekly_Student_Class.csv' AS row\n",
    "        WITH row WHERE row.`First Name` IS NOT NULL\n",
    "        MATCH (stud:Student) WHERE row.`First Name` = stud.firstName and row.`Last Name` = stud.lastName\n",
    "        SET stud.level = row.Level\n",
    "\"\"\"\n",
    "import_rooms = \"\"\"\n",
    "        LOAD CSV WITH HEADERS FROM 'file:///Rooms.csv' AS row\n",
    "        WITH row WHERE row.Room IS NOT NULL\n",
    "        MERGE (r:Room {id: apoc.create.uuid(), name:row.Room, capacity:coalesce(row.Capacity, 'Unknown'), type:coalesce(row.Type,'Unknown')})\n",
    "\"\"\"\n",
    "import_blocks = \"\"\"\n",
    "        LOAD CSV WITH HEADERS FROM 'file:///Blocks.csv' AS row\n",
    "        WITH row WHERE row.Block IS NOT NULL\n",
    "        MERGE (r:Block {id: apoc.create.uuid(), name:row.Block, startTime: row.startTime, endTime: row.endTime})\n",
    "\"\"\"\n",
    "\n",
    "import_teachers = \"\"\"\n",
    "        LOAD CSV WITH HEADERS FROM 'file:///Teachers.csv' AS row\n",
    "        WITH row WHERE row.Teacher IS NOT NULL\n",
    "        MERGE (r:Teacher {id: apoc.create.uuid(), name:row.Teacher})\n",
    "\"\"\""
   ]
  },
  {
   "cell_type": "code",
   "execution_count": 18,
   "metadata": {},
   "outputs": [
    {
     "data": {
      "text/plain": [
       "<neo4j._sync.work.result.Result at 0x2afbb4370>"
      ]
     },
     "execution_count": 18,
     "metadata": {},
     "output_type": "execute_result"
    }
   ],
   "source": [
    "execute(clean_up)\n",
    "# execute(show_all)\n",
    "execute(import_students)\n",
    "execute(import_SPINs.format(\"Choice01\"))\n",
    "execute(import_SPINs.format(\"Choice02\"))\n",
    "execute(import_SPINs.format(\"Choice03\"))\n",
    "execute(import_SPINs.format(\"Choice04\"))\n",
    "execute(import_SPINs.format(\"Choice05\"))\n",
    "execute(import_SPINs.format(\"IntensiveChoice01\"))\n",
    "execute(import_SPINs.format(\"IntensiveChoice02\"))\n",
    "execute(import_SPINs.format(\"IntensiveChoice03\"))\n",
    "execute(import_student_WANTS_spins.format(\"Choice01\", 10))\n",
    "execute(import_student_WANTS_spins.format(\"Choice02\", 8))\n",
    "execute(import_student_WANTS_spins.format(\"Choice03\", 6))\n",
    "execute(import_student_WANTS_spins.format(\"Choice04\", 4))\n",
    "execute(import_student_WANTS_spins.format(\"Choice05\", 2))\n",
    "execute(import_student_WANTS_spins.format(\"IntensiveChoice01\", 10))\n",
    "execute(import_student_WANTS_spins.format(\"IntensiveChoice02\", 8))\n",
    "execute(import_student_WANTS_spins.format(\"IntensiveChoice03\", 6))\n",
    "execute (import_student_level)\n",
    "execute(import_rooms)\n",
    "execute(import_blocks)\n",
    "execute(import_teachers)"
   ]
  },
  {
   "cell_type": "markdown",
   "metadata": {},
   "source": [
    "# Queries\n"
   ]
  },
  {
   "cell_type": "code",
   "execution_count": null,
   "metadata": {},
   "outputs": [],
   "source": [
    "# Top choices sorted by number of students choosing it as Choice01\n",
    "q = \"\"\"\n",
    "    MATCH (stud:Student)-[r:WANTS]->(spin)\n",
    "    WITH spin, r.ranking as rank, stud.level as level \n",
    "    RETURN count(*) as Total, level, rank, spin ORDER BY rank DESC,Total DESC\n",
    "\"\"\"\n",
    "records, summary, keys = neo4j.driver.execute_query(q)\n",
    "for record in records:\n",
    "    print(record.data())"
   ]
  },
  {
   "cell_type": "code",
   "execution_count": 16,
   "metadata": {},
   "outputs": [
    {
     "name": "stdout",
     "output_type": "stream",
     "text": [
      "{'spin': {'SPIN': '*Communication(A1-B2)'}, 'Choice01': 130, 'Choice02': 130, 'Choice03': 130, 'Choice04': 130, 'Choice05': 130, 'Score': 650}\n",
      "{'spin': {'SPIN': '*Learning Japanese w/ Games and Board Games(A1-B2)'}, 'Choice01': 129, 'Choice02': 129, 'Choice03': 129, 'Choice04': 129, 'Choice05': 129, 'Score': 645}\n",
      "{'spin': {'SPIN': 'ことば（Vocabulary ）'}, 'Choice01': 123, 'Choice02': 123, 'Choice03': 123, 'Choice04': 123, 'Choice05': 123, 'Score': 615}\n",
      "{'spin': {'SPIN': 'リスニング&アニメ (Listening and Anime)'}, 'Choice01': 120, 'Choice02': 120, 'Choice03': 120, 'Choice04': 120, 'Choice05': 120, 'Score': 600}\n",
      "{'spin': {'SPIN': '*JLPT Reading(A1.3-B2)'}, 'Choice01': 119, 'Choice02': 119, 'Choice03': 119, 'Choice04': 119, 'Choice05': 119, 'Score': 595}\n",
      "{'spin': {'SPIN': '生活の中の読解 Reading in Everyday Life (A1-B1)'}, 'Choice01': 118, 'Choice02': 118, 'Choice03': 118, 'Choice04': 118, 'Choice05': 118, 'Score': 590}\n",
      "{'spin': {'SPIN': 'Experience'}, 'Choice01': 96, 'Choice02': 96, 'Choice03': 96, 'Choice04': 96, 'Choice05': 96, 'Score': 480}\n",
      "{'spin': {'SPIN': 'N5 漢字 Kanji for JLPT N5（A1.1-A1.2）'}, 'Choice01': 93, 'Choice02': 93, 'Choice03': 93, 'Choice04': 93, 'Choice05': 93, 'Score': 465}\n",
      "{'spin': {'SPIN': 'JLPT文法 (JLPT Grammar) (A1.3-B2)'}, 'Choice01': 92, 'Choice02': 92, 'Choice03': 92, 'Choice04': 92, 'Choice05': 92, 'Score': 460}\n",
      "{'spin': {'SPIN': 'A1 Grammar (A1.2-A1.3)'}, 'Choice01': 88, 'Choice02': 88, 'Choice03': 88, 'Choice04': 88, 'Choice05': 88, 'Score': 440}\n",
      "{'spin': {'SPIN': '作文＆クリエイティブライティング（Basic＆Creative Writing）'}, 'Choice01': 73, 'Choice02': 73, 'Choice03': 73, 'Choice04': 73, 'Choice05': 73, 'Score': 365}\n",
      "{'spin': {'SPIN': 'N4 L11-20 漢字 Kanji for JLPT N4  L11-20 (A2.1-A2.3)'}, 'Choice01': 47, 'Choice02': 47, 'Choice03': 47, 'Choice04': 47, 'Choice05': 47, 'Score': 235}\n",
      "{'spin': {'SPIN': 'N4 L1-10 漢字 Kanji for JLPT N4 L1-10(A1.3-A2.1)'}, 'Choice01': 46, 'Choice02': 46, 'Choice03': 46, 'Choice04': 46, 'Choice05': 46, 'Score': 230}\n",
      "{'spin': {'SPIN': 'かな （Japanese Alphabet Hiragana）'}, 'Choice01': 28, 'Choice02': 28, 'Choice03': 28, 'Choice04': 28, 'Choice05': 28, 'Score': 140}\n",
      "{'spin': {'SPIN': 'カナ （Japanese Alphabet Katakana ）'}, 'Choice01': 26, 'Choice02': 26, 'Choice03': 26, 'Choice04': 26, 'Choice05': 26, 'Score': 130}\n",
      "{'spin': {'SPIN': '☆'}, 'Choice01': 1, 'Choice02': 1, 'Choice03': 1, 'Choice04': 1, 'Choice05': 1, 'Score': 5}\n",
      "{'spin': {'SPIN': '☆☆'}, 'Choice01': 1, 'Choice02': 1, 'Choice03': 1, 'Choice04': 1, 'Choice05': 1, 'Score': 5}\n",
      "{'spin': {'SPIN': '☆☆☆'}, 'Choice01': 1, 'Choice02': 1, 'Choice03': 1, 'Choice04': 1, 'Choice05': 1, 'Score': 5}\n"
     ]
    }
   ],
   "source": [
    "q = \"\"\"\n",
    "    MATCH (stud:Student)-[r:WANTS]->(spin:SPIN)\n",
    "    WITH spin,  count(r.ranking = 10) as Choice01, count(r.ranking = 8) as Choice02, \n",
    "    count(r.ranking = 6) as Choice03, count(r.ranking = 4) as Choice04, count(r.ranking = 2) as Choice05\n",
    "    RETURN  spin, Choice01, Choice02, Choice03, Choice04, Choice05, \n",
    "    (Choice01+ Choice02 + Choice03 + Choice04 + Choice05) as Score ORDER BY Score DESC\n",
    "\"\"\"\n",
    "records, summary, keys = neo4j.driver.execute_query(q)\n",
    "for record in records:\n",
    "    print(record.data())"
   ]
  },
  {
   "cell_type": "code",
   "execution_count": 22,
   "metadata": {},
   "outputs": [
    {
     "name": "stdout",
     "output_type": "stream",
     "text": [
      "{'spin': {'SPIN': '*Communication(A1-B2)'}, 'Choice01': 47, 'Choice02': 37, 'Choice03': 46, 'Choice04': 0, 'Choice05': 0, 'Score': 130}\n",
      "{'spin': {'SPIN': '*Learning Japanese w/ Games and Board Games(A1-B2)'}, 'Choice01': 59, 'Choice02': 31, 'Choice03': 39, 'Choice04': 0, 'Choice05': 0, 'Score': 129}\n",
      "{'spin': {'SPIN': 'ことば（Vocabulary ）'}, 'Choice01': 26, 'Choice02': 26, 'Choice03': 25, 'Choice04': 21, 'Choice05': 25, 'Score': 123}\n",
      "{'spin': {'SPIN': 'リスニング&アニメ (Listening and Anime)'}, 'Choice01': 41, 'Choice02': 21, 'Choice03': 18, 'Choice04': 16, 'Choice05': 24, 'Score': 120}\n",
      "{'spin': {'SPIN': '*JLPT Reading(A1.3-B2)'}, 'Choice01': 23, 'Choice02': 57, 'Choice03': 39, 'Choice04': 0, 'Choice05': 0, 'Score': 119}\n",
      "{'spin': {'SPIN': '生活の中の読解 Reading in Everyday Life (A1-B1)'}, 'Choice01': 18, 'Choice02': 36, 'Choice03': 30, 'Choice04': 24, 'Choice05': 10, 'Score': 118}\n",
      "{'spin': {'SPIN': 'Experience'}, 'Choice01': 10, 'Choice02': 21, 'Choice03': 22, 'Choice04': 17, 'Choice05': 26, 'Score': 96}\n",
      "{'spin': {'SPIN': 'N5 漢字 Kanji for JLPT N5（A1.1-A1.2）'}, 'Choice01': 29, 'Choice02': 20, 'Choice03': 21, 'Choice04': 18, 'Choice05': 5, 'Score': 93}\n",
      "{'spin': {'SPIN': 'JLPT文法 (JLPT Grammar) (A1.3-B2)'}, 'Choice01': 24, 'Choice02': 13, 'Choice03': 9, 'Choice04': 22, 'Choice05': 24, 'Score': 92}\n",
      "{'spin': {'SPIN': 'A1 Grammar (A1.2-A1.3)'}, 'Choice01': 12, 'Choice02': 17, 'Choice03': 18, 'Choice04': 17, 'Choice05': 24, 'Score': 88}\n",
      "{'spin': {'SPIN': '作文＆クリエイティブライティング（Basic＆Creative Writing）'}, 'Choice01': 9, 'Choice02': 6, 'Choice03': 18, 'Choice04': 20, 'Choice05': 20, 'Score': 73}\n",
      "{'spin': {'SPIN': 'N4 L11-20 漢字 Kanji for JLPT N4  L11-20 (A2.1-A2.3)'}, 'Choice01': 8, 'Choice02': 11, 'Choice03': 12, 'Choice04': 10, 'Choice05': 6, 'Score': 47}\n",
      "{'spin': {'SPIN': 'N4 L1-10 漢字 Kanji for JLPT N4 L1-10(A1.3-A2.1)'}, 'Choice01': 9, 'Choice02': 8, 'Choice03': 7, 'Choice04': 8, 'Choice05': 14, 'Score': 46}\n",
      "{'spin': {'SPIN': 'かな （Japanese Alphabet Hiragana）'}, 'Choice01': 4, 'Choice02': 3, 'Choice03': 4, 'Choice04': 10, 'Choice05': 7, 'Score': 28}\n",
      "{'spin': {'SPIN': 'カナ （Japanese Alphabet Katakana ）'}, 'Choice01': 0, 'Choice02': 8, 'Choice03': 6, 'Choice04': 7, 'Choice05': 5, 'Score': 26}\n",
      "{'spin': {'SPIN': '☆'}, 'Choice01': 1, 'Choice02': 0, 'Choice03': 0, 'Choice04': 0, 'Choice05': 0, 'Score': 1}\n",
      "{'spin': {'SPIN': '☆☆'}, 'Choice01': 0, 'Choice02': 1, 'Choice03': 0, 'Choice04': 0, 'Choice05': 0, 'Score': 1}\n",
      "{'spin': {'SPIN': '☆☆☆'}, 'Choice01': 0, 'Choice02': 0, 'Choice03': 1, 'Choice04': 0, 'Choice05': 0, 'Score': 1}\n"
     ]
    }
   ],
   "source": [
    "q = \"\"\"\n",
    "    MATCH (stud:Student)-[r:WANTS]->(spin:SPIN)\n",
    "    WITH spin, count(CASE WHEN r.ranking = 10 THEN 1 ELSE NULL END) as Choice01, \n",
    "    count(CASE WHEN r.ranking = 8 THEN 1 ELSE NULL END) as Choice02, \n",
    "    count(CASE WHEN r.ranking = 6 THEN 1 ELSE NULL END) as Choice03, \n",
    "    count(CASE WHEN r.ranking = 4 THEN 1 ELSE NULL END) as Choice04, \n",
    "    count(CASE WHEN r.ranking = 2 THEN 1 ELSE NULL END) as Choice05\n",
    "    RETURN spin, Choice01, Choice02, Choice03, Choice04, Choice05, \n",
    "    (Choice01 + Choice02 + Choice03 + Choice04 + Choice05) as Score ORDER BY Score DESC\n",
    "\"\"\"\n",
    "records, summary, keys = neo4j.driver.execute_query(q)\n",
    "for record in records:\n",
    "    print(record.data())"
   ]
  },
  {
   "cell_type": "code",
   "execution_count": 18,
   "metadata": {},
   "outputs": [
    {
     "name": "stdout",
     "output_type": "stream",
     "text": [
      "{'spin': {'SPIN': 'N5 漢字 Kanji for JLPT N5（A1.1-A1.2）'}, 'Count10': 29, 'Count8': 20, 'Count6': 21, 'Count4': 18, 'Count2': 5}\n",
      "{'spin': {'SPIN': '作文＆クリエイティブライティング（Basic＆Creative Writing）'}, 'Count10': 9, 'Count8': 6, 'Count6': 18, 'Count4': 20, 'Count2': 20}\n",
      "{'spin': {'SPIN': 'JLPT文法 (JLPT Grammar) (A1.3-B2)'}, 'Count10': 24, 'Count8': 13, 'Count6': 9, 'Count4': 22, 'Count2': 24}\n",
      "{'spin': {'SPIN': 'リスニング&アニメ (Listening and Anime)'}, 'Count10': 41, 'Count8': 21, 'Count6': 18, 'Count4': 16, 'Count2': 24}\n",
      "{'spin': {'SPIN': 'Experience'}, 'Count10': 10, 'Count8': 21, 'Count6': 22, 'Count4': 17, 'Count2': 26}\n",
      "{'spin': {'SPIN': 'ことば（Vocabulary ）'}, 'Count10': 26, 'Count8': 26, 'Count6': 25, 'Count4': 21, 'Count2': 25}\n",
      "{'spin': {'SPIN': 'A1 Grammar (A1.2-A1.3)'}, 'Count10': 12, 'Count8': 17, 'Count6': 18, 'Count4': 17, 'Count2': 24}\n",
      "{'spin': {'SPIN': '生活の中の読解 Reading in Everyday Life (A1-B1)'}, 'Count10': 18, 'Count8': 36, 'Count6': 30, 'Count4': 24, 'Count2': 10}\n",
      "{'spin': {'SPIN': 'N4 L1-10 漢字 Kanji for JLPT N4 L1-10(A1.3-A2.1)'}, 'Count10': 9, 'Count8': 8, 'Count6': 7, 'Count4': 8, 'Count2': 14}\n",
      "{'spin': {'SPIN': 'N4 L11-20 漢字 Kanji for JLPT N4  L11-20 (A2.1-A2.3)'}, 'Count10': 8, 'Count8': 11, 'Count6': 12, 'Count4': 10, 'Count2': 6}\n",
      "{'spin': {'SPIN': 'かな （Japanese Alphabet Hiragana）'}, 'Count10': 4, 'Count8': 3, 'Count6': 4, 'Count4': 10, 'Count2': 7}\n",
      "{'spin': {'SPIN': 'カナ （Japanese Alphabet Katakana ）'}, 'Count10': 0, 'Count8': 8, 'Count6': 6, 'Count4': 7, 'Count2': 5}\n",
      "{'spin': {'SPIN': '*JLPT Reading(A1.3-B2)'}, 'Count10': 23, 'Count8': 57, 'Count6': 39, 'Count4': 0, 'Count2': 0}\n",
      "{'spin': {'SPIN': '*Communication(A1-B2)'}, 'Count10': 47, 'Count8': 37, 'Count6': 46, 'Count4': 0, 'Count2': 0}\n",
      "{'spin': {'SPIN': '*Learning Japanese w/ Games and Board Games(A1-B2)'}, 'Count10': 59, 'Count8': 31, 'Count6': 39, 'Count4': 0, 'Count2': 0}\n",
      "{'spin': {'SPIN': '☆'}, 'Count10': 1, 'Count8': 0, 'Count6': 0, 'Count4': 0, 'Count2': 0}\n",
      "{'spin': {'SPIN': '☆☆'}, 'Count10': 0, 'Count8': 1, 'Count6': 0, 'Count4': 0, 'Count2': 0}\n",
      "{'spin': {'SPIN': '☆☆☆'}, 'Count10': 0, 'Count8': 0, 'Count6': 1, 'Count4': 0, 'Count2': 0}\n"
     ]
    }
   ],
   "source": [
    "q = \"\"\"\n",
    "    MATCH (stud:Student)-[r:WANTS]->(spin:SPIN)\n",
    "    RETURN spin,\n",
    "    sum(CASE WHEN r.ranking = 10 THEN 1 ELSE 0 END) as Count10,\n",
    "    sum(CASE WHEN r.ranking = 8 THEN 1 ELSE 0 END) as Count8,\n",
    "    sum(CASE WHEN r.ranking = 6 THEN 1 ELSE 0 END) as Count6,\n",
    "    sum(CASE WHEN r.ranking = 4 THEN 1 ELSE 0 END) as Count4,\n",
    "    sum(CASE WHEN r.ranking = 2 THEN 1 ELSE 0 END) as Count2\n",
    "\"\"\"\n",
    "records, summary, keys = neo4j.driver.execute_query(q)\n",
    "for record in records:\n",
    "    print(record.data())"
   ]
  },
  {
   "cell_type": "code",
   "execution_count": 26,
   "metadata": {},
   "outputs": [
    {
     "data": {
      "text/plain": [
       "<neo4j._sync.work.result.Result at 0x10aae5900>"
      ]
     },
     "execution_count": 26,
     "metadata": {},
     "output_type": "execute_result"
    }
   ],
   "source": [
    "execute(import_rooms)"
   ]
  },
  {
   "cell_type": "code",
   "execution_count": 2,
   "metadata": {},
   "outputs": [
    {
     "name": "stdout",
     "output_type": "stream",
     "text": [
      "f43377ba-0ff1-40bf-887d-53b2ba8336df\n"
     ]
    }
   ],
   "source": [
    "import uuid\n",
    "id = uuid.uuid4()\n",
    "print(id)"
   ]
  },
  {
   "cell_type": "code",
   "execution_count": 2,
   "metadata": {},
   "outputs": [
    {
     "ename": "ConnectionUnavailable",
     "evalue": "Connection has been closed",
     "output_type": "error",
     "traceback": [
      "\u001b[0;31m---------------------------------------------------------------------------\u001b[0m",
      "\u001b[0;31mIndexError\u001b[0m                                Traceback (most recent call last)",
      "File \u001b[0;32m~/Library/Caches/pypoetry/virtualenvs/neo4j-python-LtdXbCXM-py3.10/lib/python3.10/site-packages/py2neo/client/__init__.py:806\u001b[0m, in \u001b[0;36mConnectionPool.acquire\u001b[0;34m(self, force_reset, can_overfill)\u001b[0m\n\u001b[1;32m    804\u001b[0m \u001b[38;5;28;01mtry\u001b[39;00m:\n\u001b[1;32m    805\u001b[0m     \u001b[38;5;66;03m# Plan A: select a free connection from the pool\u001b[39;00m\n\u001b[0;32m--> 806\u001b[0m     cx \u001b[38;5;241m=\u001b[39m \u001b[38;5;28;43mself\u001b[39;49m\u001b[38;5;241;43m.\u001b[39;49m\u001b[43m_free_list\u001b[49m\u001b[38;5;241;43m.\u001b[39;49m\u001b[43mpopleft\u001b[49m\u001b[43m(\u001b[49m\u001b[43m)\u001b[49m\n\u001b[1;32m    807\u001b[0m \u001b[38;5;28;01mexcept\u001b[39;00m \u001b[38;5;167;01mIndexError\u001b[39;00m:\n",
      "\u001b[0;31mIndexError\u001b[0m: pop from an empty deque",
      "\nDuring handling of the above exception, another exception occurred:\n",
      "\u001b[0;31mClientError\u001b[0m                               Traceback (most recent call last)",
      "File \u001b[0;32m~/Library/Caches/pypoetry/virtualenvs/neo4j-python-LtdXbCXM-py3.10/lib/python3.10/site-packages/py2neo/client/bolt.py:810\u001b[0m, in \u001b[0;36mBolt1._audit\u001b[0;34m(self, task)\u001b[0m\n\u001b[1;32m    809\u001b[0m \u001b[38;5;28;01mtry\u001b[39;00m:\n\u001b[0;32m--> 810\u001b[0m     \u001b[43mtask\u001b[49m\u001b[38;5;241;43m.\u001b[39;49m\u001b[43maudit\u001b[49m\u001b[43m(\u001b[49m\u001b[43m)\u001b[49m\n\u001b[1;32m    811\u001b[0m \u001b[38;5;28;01mexcept\u001b[39;00m Neo4jError:\n",
      "File \u001b[0;32m~/Library/Caches/pypoetry/virtualenvs/neo4j-python-LtdXbCXM-py3.10/lib/python3.10/site-packages/py2neo/client/bolt.py:1303\u001b[0m, in \u001b[0;36mBoltResponse.audit\u001b[0;34m(self)\u001b[0m\n\u001b[1;32m   1302\u001b[0m \u001b[38;5;28mself\u001b[39m\u001b[38;5;241m.\u001b[39mset_ignored()\n\u001b[0;32m-> 1303\u001b[0m \u001b[38;5;28;01mraise\u001b[39;00m \u001b[38;5;28mself\u001b[39m\u001b[38;5;241m.\u001b[39m_failure\n",
      "\u001b[0;31mClientError\u001b[0m: [Security.Unauthorized] The client is unauthorized due to authentication failure.",
      "\nDuring handling of the above exception, another exception occurred:\n",
      "\u001b[0;31mConnectionUnavailable\u001b[0m                     Traceback (most recent call last)",
      "Cell \u001b[0;32mIn[2], line 5\u001b[0m\n\u001b[1;32m      2\u001b[0m \u001b[38;5;28;01mfrom\u001b[39;00m \u001b[38;5;21;01mpy2neo\u001b[39;00m \u001b[38;5;28;01mimport\u001b[39;00m Graph\n\u001b[1;32m      4\u001b[0m \u001b[38;5;66;03m# Connect to your Neo4j database\u001b[39;00m\n\u001b[0;32m----> 5\u001b[0m graph \u001b[38;5;241m=\u001b[39m \u001b[43mGraph\u001b[49m\u001b[43m(\u001b[49m\u001b[38;5;124;43m\"\u001b[39;49m\u001b[38;5;124;43mbolt://localhost:7687\u001b[39;49m\u001b[38;5;124;43m\"\u001b[39;49m\u001b[43m,\u001b[49m\u001b[43m \u001b[49m\u001b[43mauth\u001b[49m\u001b[38;5;241;43m=\u001b[39;49m\u001b[43m(\u001b[49m\u001b[38;5;124;43m\"\u001b[39;49m\u001b[38;5;124;43musername\u001b[39;49m\u001b[38;5;124;43m\"\u001b[39;49m\u001b[43m,\u001b[49m\u001b[43m \u001b[49m\u001b[38;5;124;43m\"\u001b[39;49m\u001b[38;5;124;43mpassword\u001b[39;49m\u001b[38;5;124;43m\"\u001b[39;49m\u001b[43m)\u001b[49m\u001b[43m)\u001b[49m\n\u001b[1;32m      7\u001b[0m \u001b[38;5;66;03m# Execute the Cypher query\u001b[39;00m\n\u001b[1;32m      8\u001b[0m query \u001b[38;5;241m=\u001b[39m \u001b[38;5;124m\"\"\"\u001b[39m\n\u001b[1;32m      9\u001b[0m \u001b[38;5;124mMATCH (st:Student)-[w:WANTS]->(sp:SPIN)\u001b[39m\n\u001b[1;32m     10\u001b[0m \u001b[38;5;124mWITH st, COLLECT(\u001b[39m\u001b[38;5;124m{\u001b[39m\u001b[38;5;124mchoice: w.choice, spin: sp.name}) as choices \u001b[39m\n\u001b[1;32m     11\u001b[0m \u001b[38;5;124mRETURN st.id as student_ID, st.firstName as firstName, st.lastName as lastName, choices as choices\u001b[39m\n\u001b[1;32m     12\u001b[0m \u001b[38;5;124mORDER BY st.name\u001b[39m\n\u001b[1;32m     13\u001b[0m \u001b[38;5;124m\"\"\"\u001b[39m\n",
      "File \u001b[0;32m~/Library/Caches/pypoetry/virtualenvs/neo4j-python-LtdXbCXM-py3.10/lib/python3.10/site-packages/py2neo/database.py:288\u001b[0m, in \u001b[0;36mGraph.__init__\u001b[0;34m(self, profile, name, **settings)\u001b[0m\n\u001b[1;32m    287\u001b[0m \u001b[38;5;28;01mdef\u001b[39;00m \u001b[38;5;21m__init__\u001b[39m(\u001b[38;5;28mself\u001b[39m, profile\u001b[38;5;241m=\u001b[39m\u001b[38;5;28;01mNone\u001b[39;00m, name\u001b[38;5;241m=\u001b[39m\u001b[38;5;28;01mNone\u001b[39;00m, \u001b[38;5;241m*\u001b[39m\u001b[38;5;241m*\u001b[39msettings):\n\u001b[0;32m--> 288\u001b[0m     \u001b[38;5;28mself\u001b[39m\u001b[38;5;241m.\u001b[39mservice \u001b[38;5;241m=\u001b[39m \u001b[43mGraphService\u001b[49m\u001b[43m(\u001b[49m\u001b[43mprofile\u001b[49m\u001b[43m,\u001b[49m\u001b[43m \u001b[49m\u001b[38;5;241;43m*\u001b[39;49m\u001b[38;5;241;43m*\u001b[39;49m\u001b[43msettings\u001b[49m\u001b[43m)\u001b[49m\n\u001b[1;32m    289\u001b[0m     \u001b[38;5;28mself\u001b[39m\u001b[38;5;241m.\u001b[39m\u001b[38;5;18m__name__\u001b[39m \u001b[38;5;241m=\u001b[39m name\n\u001b[1;32m    290\u001b[0m     \u001b[38;5;28mself\u001b[39m\u001b[38;5;241m.\u001b[39mschema \u001b[38;5;241m=\u001b[39m Schema(\u001b[38;5;28mself\u001b[39m)\n",
      "File \u001b[0;32m~/Library/Caches/pypoetry/virtualenvs/neo4j-python-LtdXbCXM-py3.10/lib/python3.10/site-packages/py2neo/database.py:119\u001b[0m, in \u001b[0;36mGraphService.__init__\u001b[0;34m(self, profile, **settings)\u001b[0m\n\u001b[1;32m    116\u001b[0m \u001b[38;5;28;01mif\u001b[39;00m connector_settings[\u001b[38;5;124m\"\u001b[39m\u001b[38;5;124minit_size\u001b[39m\u001b[38;5;124m\"\u001b[39m] \u001b[38;5;129;01mis\u001b[39;00m \u001b[38;5;28;01mNone\u001b[39;00m \u001b[38;5;129;01mand\u001b[39;00m \u001b[38;5;129;01mnot\u001b[39;00m profile\u001b[38;5;241m.\u001b[39mrouting:\n\u001b[1;32m    117\u001b[0m     \u001b[38;5;66;03m# Ensures credentials are checked on construction\u001b[39;00m\n\u001b[1;32m    118\u001b[0m     connector_settings[\u001b[38;5;124m\"\u001b[39m\u001b[38;5;124minit_size\u001b[39m\u001b[38;5;124m\"\u001b[39m] \u001b[38;5;241m=\u001b[39m \u001b[38;5;241m1\u001b[39m\n\u001b[0;32m--> 119\u001b[0m \u001b[38;5;28mself\u001b[39m\u001b[38;5;241m.\u001b[39m_connector \u001b[38;5;241m=\u001b[39m \u001b[43mConnector\u001b[49m\u001b[43m(\u001b[49m\u001b[43mprofile\u001b[49m\u001b[43m,\u001b[49m\u001b[43m \u001b[49m\u001b[38;5;241;43m*\u001b[39;49m\u001b[38;5;241;43m*\u001b[39;49m\u001b[43mconnector_settings\u001b[49m\u001b[43m)\u001b[49m\n\u001b[1;32m    120\u001b[0m \u001b[38;5;28mself\u001b[39m\u001b[38;5;241m.\u001b[39m_graphs \u001b[38;5;241m=\u001b[39m {}\n",
      "File \u001b[0;32m~/Library/Caches/pypoetry/virtualenvs/neo4j-python-LtdXbCXM-py3.10/lib/python3.10/site-packages/py2neo/client/__init__.py:960\u001b[0m, in \u001b[0;36mConnector.__init__\u001b[0;34m(self, profile, user_agent, init_size, max_size, max_age, routing_refresh_ttl)\u001b[0m\n\u001b[1;32m    958\u001b[0m \u001b[38;5;28;01melse\u001b[39;00m:\n\u001b[1;32m    959\u001b[0m     \u001b[38;5;28mself\u001b[39m\u001b[38;5;241m.\u001b[39m_router \u001b[38;5;241m=\u001b[39m \u001b[38;5;28;01mNone\u001b[39;00m\n\u001b[0;32m--> 960\u001b[0m \u001b[38;5;28;43mself\u001b[39;49m\u001b[38;5;241;43m.\u001b[39;49m\u001b[43m_add_pools\u001b[49m\u001b[43m(\u001b[49m\u001b[38;5;241;43m*\u001b[39;49m\u001b[38;5;28;43mself\u001b[39;49m\u001b[38;5;241;43m.\u001b[39;49m\u001b[43m_initial_routers\u001b[49m\u001b[43m)\u001b[49m\n",
      "File \u001b[0;32m~/Library/Caches/pypoetry/virtualenvs/neo4j-python-LtdXbCXM-py3.10/lib/python3.10/site-packages/py2neo/client/__init__.py:982\u001b[0m, in \u001b[0;36mConnector._add_pools\u001b[0;34m(self, *profiles)\u001b[0m\n\u001b[1;32m    980\u001b[0m     \u001b[38;5;28;01mcontinue\u001b[39;00m\n\u001b[1;32m    981\u001b[0m log\u001b[38;5;241m.\u001b[39mdebug(\u001b[38;5;124m\"\u001b[39m\u001b[38;5;124mAdding connection pool for profile \u001b[39m\u001b[38;5;132;01m%r\u001b[39;00m\u001b[38;5;124m\"\u001b[39m, profile)\n\u001b[0;32m--> 982\u001b[0m pool \u001b[38;5;241m=\u001b[39m \u001b[43mConnectionPool\u001b[49m\u001b[38;5;241;43m.\u001b[39;49m\u001b[43mopen\u001b[49m\u001b[43m(\u001b[49m\n\u001b[1;32m    983\u001b[0m \u001b[43m    \u001b[49m\u001b[43mprofile\u001b[49m\u001b[43m,\u001b[49m\n\u001b[1;32m    984\u001b[0m \u001b[43m    \u001b[49m\u001b[43muser_agent\u001b[49m\u001b[38;5;241;43m=\u001b[39;49m\u001b[38;5;28;43mself\u001b[39;49m\u001b[38;5;241;43m.\u001b[39;49m\u001b[43m_user_agent\u001b[49m\u001b[43m,\u001b[49m\n\u001b[1;32m    985\u001b[0m \u001b[43m    \u001b[49m\u001b[43minit_size\u001b[49m\u001b[38;5;241;43m=\u001b[39;49m\u001b[38;5;28;43mself\u001b[39;49m\u001b[38;5;241;43m.\u001b[39;49m\u001b[43m_init_size\u001b[49m\u001b[43m,\u001b[49m\n\u001b[1;32m    986\u001b[0m \u001b[43m    \u001b[49m\u001b[43mmax_size\u001b[49m\u001b[38;5;241;43m=\u001b[39;49m\u001b[38;5;28;43mself\u001b[39;49m\u001b[38;5;241;43m.\u001b[39;49m\u001b[43m_max_size\u001b[49m\u001b[43m,\u001b[49m\n\u001b[1;32m    987\u001b[0m \u001b[43m    \u001b[49m\u001b[43mmax_age\u001b[49m\u001b[38;5;241;43m=\u001b[39;49m\u001b[38;5;28;43mself\u001b[39;49m\u001b[38;5;241;43m.\u001b[39;49m\u001b[43m_max_age\u001b[49m\u001b[43m,\u001b[49m\n\u001b[1;32m    988\u001b[0m \u001b[43m    \u001b[49m\u001b[43mon_broken\u001b[49m\u001b[38;5;241;43m=\u001b[39;49m\u001b[38;5;28;43mself\u001b[39;49m\u001b[38;5;241;43m.\u001b[39;49m\u001b[43m_on_broken\u001b[49m\u001b[43m)\u001b[49m\n\u001b[1;32m    989\u001b[0m \u001b[38;5;28mself\u001b[39m\u001b[38;5;241m.\u001b[39m_pools[profile] \u001b[38;5;241m=\u001b[39m pool\n",
      "File \u001b[0;32m~/Library/Caches/pypoetry/virtualenvs/neo4j-python-LtdXbCXM-py3.10/lib/python3.10/site-packages/py2neo/client/__init__.py:649\u001b[0m, in \u001b[0;36mConnectionPool.open\u001b[0;34m(cls, profile, user_agent, init_size, max_size, max_age, on_broken)\u001b[0m\n\u001b[1;32m    627\u001b[0m \u001b[38;5;250m\u001b[39m\u001b[38;5;124;03m\"\"\" Create a new connection pool, with an option to seed one\u001b[39;00m\n\u001b[1;32m    628\u001b[0m \u001b[38;5;124;03mor more initial connections.\u001b[39;00m\n\u001b[1;32m    629\u001b[0m \n\u001b[0;32m   (...)\u001b[0m\n\u001b[1;32m    646\u001b[0m \u001b[38;5;124;03m    scheme\u001b[39;00m\n\u001b[1;32m    647\u001b[0m \u001b[38;5;124;03m\"\"\"\u001b[39;00m\n\u001b[1;32m    648\u001b[0m pool \u001b[38;5;241m=\u001b[39m \u001b[38;5;28mcls\u001b[39m(profile, user_agent, max_size, max_age, on_broken)\n\u001b[0;32m--> 649\u001b[0m seeds \u001b[38;5;241m=\u001b[39m [pool\u001b[38;5;241m.\u001b[39macquire() \u001b[38;5;28;01mfor\u001b[39;00m _ \u001b[38;5;129;01min\u001b[39;00m \u001b[38;5;28mrange\u001b[39m(init_size \u001b[38;5;129;01mor\u001b[39;00m \u001b[38;5;28mcls\u001b[39m\u001b[38;5;241m.\u001b[39mdefault_init_size)]\n\u001b[1;32m    650\u001b[0m \u001b[38;5;28;01mfor\u001b[39;00m seed \u001b[38;5;129;01min\u001b[39;00m seeds:\n\u001b[1;32m    651\u001b[0m     seed\u001b[38;5;241m.\u001b[39mrelease()\n",
      "File \u001b[0;32m~/Library/Caches/pypoetry/virtualenvs/neo4j-python-LtdXbCXM-py3.10/lib/python3.10/site-packages/py2neo/client/__init__.py:649\u001b[0m, in \u001b[0;36m<listcomp>\u001b[0;34m(.0)\u001b[0m\n\u001b[1;32m    627\u001b[0m \u001b[38;5;250m\u001b[39m\u001b[38;5;124;03m\"\"\" Create a new connection pool, with an option to seed one\u001b[39;00m\n\u001b[1;32m    628\u001b[0m \u001b[38;5;124;03mor more initial connections.\u001b[39;00m\n\u001b[1;32m    629\u001b[0m \n\u001b[0;32m   (...)\u001b[0m\n\u001b[1;32m    646\u001b[0m \u001b[38;5;124;03m    scheme\u001b[39;00m\n\u001b[1;32m    647\u001b[0m \u001b[38;5;124;03m\"\"\"\u001b[39;00m\n\u001b[1;32m    648\u001b[0m pool \u001b[38;5;241m=\u001b[39m \u001b[38;5;28mcls\u001b[39m(profile, user_agent, max_size, max_age, on_broken)\n\u001b[0;32m--> 649\u001b[0m seeds \u001b[38;5;241m=\u001b[39m [\u001b[43mpool\u001b[49m\u001b[38;5;241;43m.\u001b[39;49m\u001b[43macquire\u001b[49m\u001b[43m(\u001b[49m\u001b[43m)\u001b[49m \u001b[38;5;28;01mfor\u001b[39;00m _ \u001b[38;5;129;01min\u001b[39;00m \u001b[38;5;28mrange\u001b[39m(init_size \u001b[38;5;129;01mor\u001b[39;00m \u001b[38;5;28mcls\u001b[39m\u001b[38;5;241m.\u001b[39mdefault_init_size)]\n\u001b[1;32m    650\u001b[0m \u001b[38;5;28;01mfor\u001b[39;00m seed \u001b[38;5;129;01min\u001b[39;00m seeds:\n\u001b[1;32m    651\u001b[0m     seed\u001b[38;5;241m.\u001b[39mrelease()\n",
      "File \u001b[0;32m~/Library/Caches/pypoetry/virtualenvs/neo4j-python-LtdXbCXM-py3.10/lib/python3.10/site-packages/py2neo/client/__init__.py:813\u001b[0m, in \u001b[0;36mConnectionPool.acquire\u001b[0;34m(self, force_reset, can_overfill)\u001b[0m\n\u001b[1;32m    807\u001b[0m \u001b[38;5;28;01mexcept\u001b[39;00m \u001b[38;5;167;01mIndexError\u001b[39;00m:\n\u001b[1;32m    808\u001b[0m     \u001b[38;5;28;01mif\u001b[39;00m \u001b[38;5;28mself\u001b[39m\u001b[38;5;241m.\u001b[39m_has_capacity() \u001b[38;5;129;01mor\u001b[39;00m can_overfill:\n\u001b[1;32m    809\u001b[0m         \u001b[38;5;66;03m# Plan B: if the pool isn't full, open\u001b[39;00m\n\u001b[1;32m    810\u001b[0m         \u001b[38;5;66;03m# a new connection. This may raise a\u001b[39;00m\n\u001b[1;32m    811\u001b[0m         \u001b[38;5;66;03m# ConnectionUnavailable exception, which\u001b[39;00m\n\u001b[1;32m    812\u001b[0m         \u001b[38;5;66;03m# should bubble up to the caller.\u001b[39;00m\n\u001b[0;32m--> 813\u001b[0m         cx \u001b[38;5;241m=\u001b[39m \u001b[38;5;28;43mself\u001b[39;49m\u001b[38;5;241;43m.\u001b[39;49m\u001b[43m_connect\u001b[49m\u001b[43m(\u001b[49m\u001b[43m)\u001b[49m\n\u001b[1;32m    814\u001b[0m         \u001b[38;5;28;01mif\u001b[39;00m cx\u001b[38;5;241m.\u001b[39msupports_multi():\n\u001b[1;32m    815\u001b[0m             \u001b[38;5;28mself\u001b[39m\u001b[38;5;241m.\u001b[39m_supports_multi \u001b[38;5;241m=\u001b[39m \u001b[38;5;28;01mTrue\u001b[39;00m\n",
      "File \u001b[0;32m~/Library/Caches/pypoetry/virtualenvs/neo4j-python-LtdXbCXM-py3.10/lib/python3.10/site-packages/py2neo/client/__init__.py:764\u001b[0m, in \u001b[0;36mConnectionPool._connect\u001b[0;34m(self)\u001b[0m\n\u001b[1;32m    761\u001b[0m \u001b[38;5;28;01mdef\u001b[39;00m \u001b[38;5;21m_connect\u001b[39m(\u001b[38;5;28mself\u001b[39m):\n\u001b[1;32m    762\u001b[0m \u001b[38;5;250m    \u001b[39m\u001b[38;5;124;03m\"\"\" Open and return a new connection.\u001b[39;00m\n\u001b[1;32m    763\u001b[0m \u001b[38;5;124;03m    \"\"\"\u001b[39;00m\n\u001b[0;32m--> 764\u001b[0m     cx \u001b[38;5;241m=\u001b[39m \u001b[43mConnection\u001b[49m\u001b[38;5;241;43m.\u001b[39;49m\u001b[43mopen\u001b[49m\u001b[43m(\u001b[49m\u001b[38;5;28;43mself\u001b[39;49m\u001b[38;5;241;43m.\u001b[39;49m\u001b[43mprofile\u001b[49m\u001b[43m,\u001b[49m\u001b[43m \u001b[49m\u001b[43muser_agent\u001b[49m\u001b[38;5;241;43m=\u001b[39;49m\u001b[38;5;28;43mself\u001b[39;49m\u001b[38;5;241;43m.\u001b[39;49m\u001b[43muser_agent\u001b[49m\u001b[43m,\u001b[49m\n\u001b[1;32m    765\u001b[0m \u001b[43m                         \u001b[49m\u001b[43mon_release\u001b[49m\u001b[38;5;241;43m=\u001b[39;49m\u001b[38;5;28;43;01mlambda\u001b[39;49;00m\u001b[43m \u001b[49m\u001b[43mc\u001b[49m\u001b[43m:\u001b[49m\u001b[43m \u001b[49m\u001b[38;5;28;43mself\u001b[39;49m\u001b[38;5;241;43m.\u001b[39;49m\u001b[43mrelease\u001b[49m\u001b[43m(\u001b[49m\u001b[43mc\u001b[49m\u001b[43m)\u001b[49m\u001b[43m,\u001b[49m\n\u001b[1;32m    766\u001b[0m \u001b[43m                         \u001b[49m\u001b[43mon_broken\u001b[49m\u001b[38;5;241;43m=\u001b[39;49m\u001b[38;5;28;43;01mlambda\u001b[39;49;00m\u001b[43m \u001b[49m\u001b[43mmsg\u001b[49m\u001b[43m:\u001b[49m\u001b[43m \u001b[49m\u001b[38;5;28;43mself\u001b[39;49m\u001b[38;5;241;43m.\u001b[39;49m\u001b[43m__on_broken\u001b[49m\u001b[43m(\u001b[49m\u001b[43mmsg\u001b[49m\u001b[43m)\u001b[49m\u001b[43m)\u001b[49m\n\u001b[1;32m    767\u001b[0m     \u001b[38;5;28mself\u001b[39m\u001b[38;5;241m.\u001b[39m_server_agent \u001b[38;5;241m=\u001b[39m cx\u001b[38;5;241m.\u001b[39mserver_agent\n\u001b[1;32m    768\u001b[0m     \u001b[38;5;28;01mreturn\u001b[39;00m cx\n",
      "File \u001b[0;32m~/Library/Caches/pypoetry/virtualenvs/neo4j-python-LtdXbCXM-py3.10/lib/python3.10/site-packages/py2neo/client/__init__.py:174\u001b[0m, in \u001b[0;36mConnection.open\u001b[0;34m(cls, profile, user_agent, on_release, on_broken)\u001b[0m\n\u001b[1;32m    172\u001b[0m \u001b[38;5;28;01mif\u001b[39;00m profile\u001b[38;5;241m.\u001b[39mprotocol \u001b[38;5;241m==\u001b[39m \u001b[38;5;124m\"\u001b[39m\u001b[38;5;124mbolt\u001b[39m\u001b[38;5;124m\"\u001b[39m:\n\u001b[1;32m    173\u001b[0m     \u001b[38;5;28;01mfrom\u001b[39;00m \u001b[38;5;21;01mpy2neo\u001b[39;00m\u001b[38;5;21;01m.\u001b[39;00m\u001b[38;5;21;01mclient\u001b[39;00m\u001b[38;5;21;01m.\u001b[39;00m\u001b[38;5;21;01mbolt\u001b[39;00m \u001b[38;5;28;01mimport\u001b[39;00m Bolt\n\u001b[0;32m--> 174\u001b[0m     \u001b[38;5;28;01mreturn\u001b[39;00m \u001b[43mBolt\u001b[49m\u001b[38;5;241;43m.\u001b[39;49m\u001b[43mopen\u001b[49m\u001b[43m(\u001b[49m\u001b[43mprofile\u001b[49m\u001b[43m,\u001b[49m\u001b[43m \u001b[49m\u001b[43muser_agent\u001b[49m\u001b[38;5;241;43m=\u001b[39;49m\u001b[43muser_agent\u001b[49m\u001b[43m,\u001b[49m\n\u001b[1;32m    175\u001b[0m \u001b[43m                     \u001b[49m\u001b[43mon_release\u001b[49m\u001b[38;5;241;43m=\u001b[39;49m\u001b[43mon_release\u001b[49m\u001b[43m,\u001b[49m\u001b[43m \u001b[49m\u001b[43mon_broken\u001b[49m\u001b[38;5;241;43m=\u001b[39;49m\u001b[43mon_broken\u001b[49m\u001b[43m)\u001b[49m\n\u001b[1;32m    176\u001b[0m \u001b[38;5;28;01melif\u001b[39;00m profile\u001b[38;5;241m.\u001b[39mprotocol \u001b[38;5;241m==\u001b[39m \u001b[38;5;124m\"\u001b[39m\u001b[38;5;124mhttp\u001b[39m\u001b[38;5;124m\"\u001b[39m:\n\u001b[1;32m    177\u001b[0m     \u001b[38;5;28;01mfrom\u001b[39;00m \u001b[38;5;21;01mpy2neo\u001b[39;00m\u001b[38;5;21;01m.\u001b[39;00m\u001b[38;5;21;01mclient\u001b[39;00m\u001b[38;5;21;01m.\u001b[39;00m\u001b[38;5;21;01mhttp\u001b[39;00m \u001b[38;5;28;01mimport\u001b[39;00m HTTP\n",
      "File \u001b[0;32m~/Library/Caches/pypoetry/virtualenvs/neo4j-python-LtdXbCXM-py3.10/lib/python3.10/site-packages/py2neo/client/bolt.py:361\u001b[0m, in \u001b[0;36mBolt.open\u001b[0;34m(cls, profile, user_agent, on_release, on_broken)\u001b[0m\n\u001b[1;32m    359\u001b[0m         \u001b[38;5;28;01mraise\u001b[39;00m \u001b[38;5;167;01mTypeError\u001b[39;00m(\u001b[38;5;124m\"\u001b[39m\u001b[38;5;124mUnable to agree supported protocol version\u001b[39m\u001b[38;5;124m\"\u001b[39m)\n\u001b[1;32m    360\u001b[0m     bolt \u001b[38;5;241m=\u001b[39m subclass(wire, profile, on_release\u001b[38;5;241m=\u001b[39mon_release)\n\u001b[0;32m--> 361\u001b[0m     \u001b[43mbolt\u001b[49m\u001b[38;5;241;43m.\u001b[39;49m\u001b[43m_hello\u001b[49m\u001b[43m(\u001b[49m\u001b[43muser_agent\u001b[49m\u001b[43m \u001b[49m\u001b[38;5;129;43;01mor\u001b[39;49;00m\u001b[43m \u001b[49m\u001b[43mbolt_user_agent\u001b[49m\u001b[43m(\u001b[49m\u001b[43m)\u001b[49m\u001b[43m)\u001b[49m\n\u001b[1;32m    362\u001b[0m     \u001b[38;5;28;01mreturn\u001b[39;00m bolt\n\u001b[1;32m    363\u001b[0m \u001b[38;5;28;01mexcept\u001b[39;00m (\u001b[38;5;167;01mTypeError\u001b[39;00m, WireError) \u001b[38;5;28;01mas\u001b[39;00m error:\n",
      "File \u001b[0;32m~/Library/Caches/pypoetry/virtualenvs/neo4j-python-LtdXbCXM-py3.10/lib/python3.10/site-packages/py2neo/client/bolt.py:867\u001b[0m, in \u001b[0;36mBolt3._hello\u001b[0;34m(self, user_agent)\u001b[0m\n\u001b[1;32m    865\u001b[0m \u001b[38;5;28mself\u001b[39m\u001b[38;5;241m.\u001b[39msend()\n\u001b[1;32m    866\u001b[0m \u001b[38;5;28mself\u001b[39m\u001b[38;5;241m.\u001b[39m_fetch()\n\u001b[0;32m--> 867\u001b[0m \u001b[38;5;28;43mself\u001b[39;49m\u001b[38;5;241;43m.\u001b[39;49m\u001b[43m_audit\u001b[49m\u001b[43m(\u001b[49m\u001b[43mresponse\u001b[49m\u001b[43m)\u001b[49m\n\u001b[1;32m    868\u001b[0m \u001b[38;5;28mself\u001b[39m\u001b[38;5;241m.\u001b[39mserver_agent \u001b[38;5;241m=\u001b[39m response\u001b[38;5;241m.\u001b[39mmetadata\u001b[38;5;241m.\u001b[39mget(\u001b[38;5;124m\"\u001b[39m\u001b[38;5;124mserver\u001b[39m\u001b[38;5;124m\"\u001b[39m)\n\u001b[1;32m    869\u001b[0m \u001b[38;5;28mself\u001b[39m\u001b[38;5;241m.\u001b[39mconnection_id \u001b[38;5;241m=\u001b[39m response\u001b[38;5;241m.\u001b[39mmetadata\u001b[38;5;241m.\u001b[39mget(\u001b[38;5;124m\"\u001b[39m\u001b[38;5;124mconnection_id\u001b[39m\u001b[38;5;124m\"\u001b[39m)\n",
      "File \u001b[0;32m~/Library/Caches/pypoetry/virtualenvs/neo4j-python-LtdXbCXM-py3.10/lib/python3.10/site-packages/py2neo/client/bolt.py:812\u001b[0m, in \u001b[0;36mBolt1._audit\u001b[0;34m(self, task)\u001b[0m\n\u001b[1;32m    810\u001b[0m     task\u001b[38;5;241m.\u001b[39maudit()\n\u001b[1;32m    811\u001b[0m \u001b[38;5;28;01mexcept\u001b[39;00m Neo4jError:\n\u001b[0;32m--> 812\u001b[0m     \u001b[38;5;28;43mself\u001b[39;49m\u001b[38;5;241;43m.\u001b[39;49m\u001b[43mreset\u001b[49m\u001b[43m(\u001b[49m\u001b[43mforce\u001b[49m\u001b[38;5;241;43m=\u001b[39;49m\u001b[38;5;28;43;01mTrue\u001b[39;49;00m\u001b[43m)\u001b[49m\n\u001b[1;32m    813\u001b[0m     \u001b[38;5;28;01mraise\u001b[39;00m\n\u001b[1;32m    814\u001b[0m \u001b[38;5;28;01mfinally\u001b[39;00m:\n\u001b[1;32m    815\u001b[0m     \u001b[38;5;66;03m# On 1 Apr 2021, this was moved here from _wait. Because\u001b[39;00m\n\u001b[1;32m    816\u001b[0m     \u001b[38;5;66;03m# _wait is generally called before _audit, the post-failure\u001b[39;00m\n\u001b[0;32m   (...)\u001b[0m\n\u001b[1;32m    821\u001b[0m     \u001b[38;5;66;03m# Putting it here ensures that release is only ever done\u001b[39;00m\n\u001b[1;32m    822\u001b[0m     \u001b[38;5;66;03m# after such a reset.\u001b[39;00m\n",
      "File \u001b[0;32m~/Library/Caches/pypoetry/virtualenvs/neo4j-python-LtdXbCXM-py3.10/lib/python3.10/site-packages/py2neo/client/bolt.py:506\u001b[0m, in \u001b[0;36mBolt1.reset\u001b[0;34m(self, force)\u001b[0m\n\u001b[1;32m    505\u001b[0m \u001b[38;5;28;01mdef\u001b[39;00m \u001b[38;5;21mreset\u001b[39m(\u001b[38;5;28mself\u001b[39m, force\u001b[38;5;241m=\u001b[39m\u001b[38;5;28;01mFalse\u001b[39;00m):\n\u001b[0;32m--> 506\u001b[0m     \u001b[38;5;28;43mself\u001b[39;49m\u001b[38;5;241;43m.\u001b[39;49m\u001b[43m_assert_open\u001b[49m\u001b[43m(\u001b[49m\u001b[43m)\u001b[49m\n\u001b[1;32m    507\u001b[0m     \u001b[38;5;28;01mif\u001b[39;00m force \u001b[38;5;129;01mor\u001b[39;00m \u001b[38;5;28mself\u001b[39m\u001b[38;5;241m.\u001b[39m_transaction:\n\u001b[1;32m    508\u001b[0m         response \u001b[38;5;241m=\u001b[39m \u001b[38;5;28mself\u001b[39m\u001b[38;5;241m.\u001b[39mappend_message(\u001b[38;5;241m0x0F\u001b[39m, vital\u001b[38;5;241m=\u001b[39m\u001b[38;5;28;01mTrue\u001b[39;00m)\n",
      "File \u001b[0;32m~/Library/Caches/pypoetry/virtualenvs/neo4j-python-LtdXbCXM-py3.10/lib/python3.10/site-packages/py2neo/client/bolt.py:449\u001b[0m, in \u001b[0;36mBolt._assert_open\u001b[0;34m(self)\u001b[0m\n\u001b[1;32m    447\u001b[0m \u001b[38;5;28;01mdef\u001b[39;00m \u001b[38;5;21m_assert_open\u001b[39m(\u001b[38;5;28mself\u001b[39m):\n\u001b[1;32m    448\u001b[0m     \u001b[38;5;28;01mif\u001b[39;00m \u001b[38;5;28mself\u001b[39m\u001b[38;5;241m.\u001b[39mclosed:\n\u001b[0;32m--> 449\u001b[0m         \u001b[38;5;28;01mraise\u001b[39;00m ConnectionUnavailable(\u001b[38;5;124m\"\u001b[39m\u001b[38;5;124mConnection has been closed\u001b[39m\u001b[38;5;124m\"\u001b[39m)\n\u001b[1;32m    450\u001b[0m     \u001b[38;5;28;01mif\u001b[39;00m \u001b[38;5;28mself\u001b[39m\u001b[38;5;241m.\u001b[39mbroken:\n\u001b[1;32m    451\u001b[0m         \u001b[38;5;28;01mraise\u001b[39;00m ConnectionUnavailable(\u001b[38;5;124m\"\u001b[39m\u001b[38;5;124mConnection is broken\u001b[39m\u001b[38;5;124m\"\u001b[39m)\n",
      "\u001b[0;31mConnectionUnavailable\u001b[0m: Connection has been closed"
     ]
    }
   ],
   "source": [
    "from tabulate import tabulate\n",
    "from py2neo import Graph\n",
    "\n",
    "# Connect to your Neo4j database\n",
    "graph = Graph(\"bolt://localhost:7687\", auth=(\"neo4j\", \"password\"))\n",
    "\n",
    "# Execute the Cypher query\n",
    "query = \"\"\"\n",
    "MATCH (st:Student)-[w:WANTS]->(sp:SPIN)\n",
    "WITH st, COLLECT({choice: w.choice, spin: sp.name}) as choices \n",
    "RETURN st.id as student_ID, st.firstName as firstName, st.lastName as lastName, choices as choices\n",
    "ORDER BY st.name\n",
    "\"\"\"\n",
    "result = graph.run(query)\n",
    "\n",
    "# Transform the result into a table structure\n",
    "table_data = []\n",
    "for record in result:\n",
    "    student_id = record[\"student_ID\"]\n",
    "    first_name = record[\"firstName\"]\n",
    "    last_name = record[\"lastName\"]\n",
    "    choices = record[\"choices\"]\n",
    "\n",
    "    # Create a dictionary to represent each row in the table\n",
    "    row = {\"Student ID\": student_id, \"First Name\": first_name, \"Last Name\": last_name}\n",
    "    for choice in choices:\n",
    "        choice_number = choice[\"choice\"]\n",
    "        course_name = choice[\"spin\"]\n",
    "        row[f\"Choice{choice_number}\"] = course_name\n",
    "\n",
    "    table_data.append(row)\n",
    "\n",
    "# Generate the table using the tabulate library\n",
    "table = tabulate(table_data, headers=\"keys\", tablefmt=\"github\")\n",
    "\n",
    "# Print the table\n",
    "print(table)"
   ]
  },
  {
   "cell_type": "code",
   "execution_count": null,
   "metadata": {},
   "outputs": [],
   "source": []
  }
 ],
 "metadata": {
  "kernelspec": {
   "display_name": "neo4j-python-LtdXbCXM-py3.10",
   "language": "python",
   "name": "python3"
  },
  "language_info": {
   "codemirror_mode": {
    "name": "ipython",
    "version": 3
   },
   "file_extension": ".py",
   "mimetype": "text/x-python",
   "name": "python",
   "nbconvert_exporter": "python",
   "pygments_lexer": "ipython3",
   "version": "3.10.13"
  }
 },
 "nbformat": 4,
 "nbformat_minor": 2
}
